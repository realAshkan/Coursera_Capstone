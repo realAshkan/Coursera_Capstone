{
    "cells": [
        {
            "cell_type": "markdown",
            "metadata": {
                "collapsed": true
            },
            "source": "# Data Science Capstone Project\n### Title: Predicting Severity of Collisions"
        },
        {
            "cell_type": "code",
            "execution_count": 116,
            "metadata": {},
            "outputs": [
                {
                    "name": "stdout",
                    "output_type": "stream",
                    "text": "Hello Capstone Project Course!\n"
                }
            ],
            "source": "print('Hello Capstone Project Course!')"
        },
        {
            "cell_type": "code",
            "execution_count": 117,
            "metadata": {},
            "outputs": [],
            "source": "import pandas as pd\nimport numpy as np\nimport itertools\nimport types\nfrom botocore.client import Config\nimport ibm_boto3\nfrom sklearn import preprocessing\nimport seaborn as sns\nimport matplotlib.pyplot as plt\nfrom matplotlib.ticker import NullFormatter\nimport matplotlib.ticker as ticker\n%matplotlib inline"
        },
        {
            "cell_type": "code",
            "execution_count": 118,
            "metadata": {},
            "outputs": [],
            "source": "# The code was removed by Watson Studio for sharing."
        },
        {
            "cell_type": "code",
            "execution_count": 119,
            "metadata": {},
            "outputs": [
                {
                    "data": {
                        "text/html": "<div>\n<style scoped>\n    .dataframe tbody tr th:only-of-type {\n        vertical-align: middle;\n    }\n\n    .dataframe tbody tr th {\n        vertical-align: top;\n    }\n\n    .dataframe thead th {\n        text-align: right;\n    }\n</style>\n<table border=\"1\" class=\"dataframe\">\n  <thead>\n    <tr style=\"text-align: right;\">\n      <th></th>\n      <th>SEVERITYCODE</th>\n      <th>X</th>\n      <th>Y</th>\n      <th>OBJECTID</th>\n      <th>INCKEY</th>\n      <th>COLDETKEY</th>\n      <th>REPORTNO</th>\n      <th>STATUS</th>\n      <th>ADDRTYPE</th>\n      <th>INTKEY</th>\n      <th>LOCATION</th>\n      <th>EXCEPTRSNCODE</th>\n      <th>EXCEPTRSNDESC</th>\n      <th>SEVERITYCODE.1</th>\n      <th>SEVERITYDESC</th>\n      <th>COLLISIONTYPE</th>\n      <th>PERSONCOUNT</th>\n      <th>PEDCOUNT</th>\n      <th>PEDCYLCOUNT</th>\n      <th>VEHCOUNT</th>\n      <th>INCDATE</th>\n      <th>INCDTTM</th>\n      <th>JUNCTIONTYPE</th>\n      <th>SDOT_COLCODE</th>\n      <th>SDOT_COLDESC</th>\n      <th>INATTENTIONIND</th>\n      <th>UNDERINFL</th>\n      <th>WEATHER</th>\n      <th>ROADCOND</th>\n      <th>LIGHTCOND</th>\n      <th>PEDROWNOTGRNT</th>\n      <th>SDOTCOLNUM</th>\n      <th>SPEEDING</th>\n      <th>ST_COLCODE</th>\n      <th>ST_COLDESC</th>\n      <th>SEGLANEKEY</th>\n      <th>CROSSWALKKEY</th>\n      <th>HITPARKEDCAR</th>\n    </tr>\n  </thead>\n  <tbody>\n    <tr>\n      <th>0</th>\n      <td>2</td>\n      <td>-122.323148</td>\n      <td>47.703140</td>\n      <td>1</td>\n      <td>1307</td>\n      <td>1307</td>\n      <td>3502005</td>\n      <td>Matched</td>\n      <td>Intersection</td>\n      <td>37475.0</td>\n      <td>5TH AVE NE AND NE 103RD ST</td>\n      <td></td>\n      <td>NaN</td>\n      <td>2</td>\n      <td>Injury Collision</td>\n      <td>Angles</td>\n      <td>2</td>\n      <td>0</td>\n      <td>0</td>\n      <td>2</td>\n      <td>2013/03/27 00:00:00+00</td>\n      <td>3/27/2013 2:54:00 PM</td>\n      <td>At Intersection (intersection related)</td>\n      <td>11</td>\n      <td>MOTOR VEHICLE STRUCK MOTOR VEHICLE, FRONT END ...</td>\n      <td>NaN</td>\n      <td>N</td>\n      <td>Overcast</td>\n      <td>Wet</td>\n      <td>Daylight</td>\n      <td>NaN</td>\n      <td>NaN</td>\n      <td>NaN</td>\n      <td>10</td>\n      <td>Entering at angle</td>\n      <td>0</td>\n      <td>0</td>\n      <td>N</td>\n    </tr>\n    <tr>\n      <th>1</th>\n      <td>1</td>\n      <td>-122.347294</td>\n      <td>47.647172</td>\n      <td>2</td>\n      <td>52200</td>\n      <td>52200</td>\n      <td>2607959</td>\n      <td>Matched</td>\n      <td>Block</td>\n      <td>NaN</td>\n      <td>AURORA BR BETWEEN RAYE ST AND BRIDGE WAY N</td>\n      <td>NaN</td>\n      <td>NaN</td>\n      <td>1</td>\n      <td>Property Damage Only Collision</td>\n      <td>Sideswipe</td>\n      <td>2</td>\n      <td>0</td>\n      <td>0</td>\n      <td>2</td>\n      <td>2006/12/20 00:00:00+00</td>\n      <td>12/20/2006 6:55:00 PM</td>\n      <td>Mid-Block (not related to intersection)</td>\n      <td>16</td>\n      <td>MOTOR VEHICLE STRUCK MOTOR VEHICLE, LEFT SIDE ...</td>\n      <td>NaN</td>\n      <td>0</td>\n      <td>Raining</td>\n      <td>Wet</td>\n      <td>Dark - Street Lights On</td>\n      <td>NaN</td>\n      <td>6354039.0</td>\n      <td>NaN</td>\n      <td>11</td>\n      <td>From same direction - both going straight - bo...</td>\n      <td>0</td>\n      <td>0</td>\n      <td>N</td>\n    </tr>\n    <tr>\n      <th>2</th>\n      <td>1</td>\n      <td>-122.334540</td>\n      <td>47.607871</td>\n      <td>3</td>\n      <td>26700</td>\n      <td>26700</td>\n      <td>1482393</td>\n      <td>Matched</td>\n      <td>Block</td>\n      <td>NaN</td>\n      <td>4TH AVE BETWEEN SENECA ST AND UNIVERSITY ST</td>\n      <td>NaN</td>\n      <td>NaN</td>\n      <td>1</td>\n      <td>Property Damage Only Collision</td>\n      <td>Parked Car</td>\n      <td>4</td>\n      <td>0</td>\n      <td>0</td>\n      <td>3</td>\n      <td>2004/11/18 00:00:00+00</td>\n      <td>11/18/2004 10:20:00 AM</td>\n      <td>Mid-Block (not related to intersection)</td>\n      <td>14</td>\n      <td>MOTOR VEHICLE STRUCK MOTOR VEHICLE, REAR END</td>\n      <td>NaN</td>\n      <td>0</td>\n      <td>Overcast</td>\n      <td>Dry</td>\n      <td>Daylight</td>\n      <td>NaN</td>\n      <td>4323031.0</td>\n      <td>NaN</td>\n      <td>32</td>\n      <td>One parked--one moving</td>\n      <td>0</td>\n      <td>0</td>\n      <td>N</td>\n    </tr>\n    <tr>\n      <th>3</th>\n      <td>1</td>\n      <td>-122.334803</td>\n      <td>47.604803</td>\n      <td>4</td>\n      <td>1144</td>\n      <td>1144</td>\n      <td>3503937</td>\n      <td>Matched</td>\n      <td>Block</td>\n      <td>NaN</td>\n      <td>2ND AVE BETWEEN MARION ST AND MADISON ST</td>\n      <td></td>\n      <td>NaN</td>\n      <td>1</td>\n      <td>Property Damage Only Collision</td>\n      <td>Other</td>\n      <td>3</td>\n      <td>0</td>\n      <td>0</td>\n      <td>3</td>\n      <td>2013/03/29 00:00:00+00</td>\n      <td>3/29/2013 9:26:00 AM</td>\n      <td>Mid-Block (not related to intersection)</td>\n      <td>11</td>\n      <td>MOTOR VEHICLE STRUCK MOTOR VEHICLE, FRONT END ...</td>\n      <td>NaN</td>\n      <td>N</td>\n      <td>Clear</td>\n      <td>Dry</td>\n      <td>Daylight</td>\n      <td>NaN</td>\n      <td>NaN</td>\n      <td>NaN</td>\n      <td>23</td>\n      <td>From same direction - all others</td>\n      <td>0</td>\n      <td>0</td>\n      <td>N</td>\n    </tr>\n    <tr>\n      <th>4</th>\n      <td>2</td>\n      <td>-122.306426</td>\n      <td>47.545739</td>\n      <td>5</td>\n      <td>17700</td>\n      <td>17700</td>\n      <td>1807429</td>\n      <td>Matched</td>\n      <td>Intersection</td>\n      <td>34387.0</td>\n      <td>SWIFT AVE S AND SWIFT AV OFF RP</td>\n      <td>NaN</td>\n      <td>NaN</td>\n      <td>2</td>\n      <td>Injury Collision</td>\n      <td>Angles</td>\n      <td>2</td>\n      <td>0</td>\n      <td>0</td>\n      <td>2</td>\n      <td>2004/01/28 00:00:00+00</td>\n      <td>1/28/2004 8:04:00 AM</td>\n      <td>At Intersection (intersection related)</td>\n      <td>11</td>\n      <td>MOTOR VEHICLE STRUCK MOTOR VEHICLE, FRONT END ...</td>\n      <td>NaN</td>\n      <td>0</td>\n      <td>Raining</td>\n      <td>Wet</td>\n      <td>Daylight</td>\n      <td>NaN</td>\n      <td>4028032.0</td>\n      <td>NaN</td>\n      <td>10</td>\n      <td>Entering at angle</td>\n      <td>0</td>\n      <td>0</td>\n      <td>N</td>\n    </tr>\n  </tbody>\n</table>\n</div>",
                        "text/plain": "   SEVERITYCODE           X          Y  OBJECTID  INCKEY  COLDETKEY REPORTNO  \\\n0             2 -122.323148  47.703140         1    1307       1307  3502005   \n1             1 -122.347294  47.647172         2   52200      52200  2607959   \n2             1 -122.334540  47.607871         3   26700      26700  1482393   \n3             1 -122.334803  47.604803         4    1144       1144  3503937   \n4             2 -122.306426  47.545739         5   17700      17700  1807429   \n\n    STATUS      ADDRTYPE   INTKEY  \\\n0  Matched  Intersection  37475.0   \n1  Matched         Block      NaN   \n2  Matched         Block      NaN   \n3  Matched         Block      NaN   \n4  Matched  Intersection  34387.0   \n\n                                      LOCATION EXCEPTRSNCODE EXCEPTRSNDESC  \\\n0                   5TH AVE NE AND NE 103RD ST                         NaN   \n1   AURORA BR BETWEEN RAYE ST AND BRIDGE WAY N           NaN           NaN   \n2  4TH AVE BETWEEN SENECA ST AND UNIVERSITY ST           NaN           NaN   \n3     2ND AVE BETWEEN MARION ST AND MADISON ST                         NaN   \n4              SWIFT AVE S AND SWIFT AV OFF RP           NaN           NaN   \n\n   SEVERITYCODE.1                    SEVERITYDESC COLLISIONTYPE  PERSONCOUNT  \\\n0               2                Injury Collision        Angles            2   \n1               1  Property Damage Only Collision     Sideswipe            2   \n2               1  Property Damage Only Collision    Parked Car            4   \n3               1  Property Damage Only Collision         Other            3   \n4               2                Injury Collision        Angles            2   \n\n   PEDCOUNT  PEDCYLCOUNT  VEHCOUNT                 INCDATE  \\\n0         0            0         2  2013/03/27 00:00:00+00   \n1         0            0         2  2006/12/20 00:00:00+00   \n2         0            0         3  2004/11/18 00:00:00+00   \n3         0            0         3  2013/03/29 00:00:00+00   \n4         0            0         2  2004/01/28 00:00:00+00   \n\n                  INCDTTM                             JUNCTIONTYPE  \\\n0    3/27/2013 2:54:00 PM   At Intersection (intersection related)   \n1   12/20/2006 6:55:00 PM  Mid-Block (not related to intersection)   \n2  11/18/2004 10:20:00 AM  Mid-Block (not related to intersection)   \n3    3/29/2013 9:26:00 AM  Mid-Block (not related to intersection)   \n4    1/28/2004 8:04:00 AM   At Intersection (intersection related)   \n\n   SDOT_COLCODE                                       SDOT_COLDESC  \\\n0            11  MOTOR VEHICLE STRUCK MOTOR VEHICLE, FRONT END ...   \n1            16  MOTOR VEHICLE STRUCK MOTOR VEHICLE, LEFT SIDE ...   \n2            14       MOTOR VEHICLE STRUCK MOTOR VEHICLE, REAR END   \n3            11  MOTOR VEHICLE STRUCK MOTOR VEHICLE, FRONT END ...   \n4            11  MOTOR VEHICLE STRUCK MOTOR VEHICLE, FRONT END ...   \n\n  INATTENTIONIND UNDERINFL   WEATHER ROADCOND                LIGHTCOND  \\\n0            NaN         N  Overcast      Wet                 Daylight   \n1            NaN         0   Raining      Wet  Dark - Street Lights On   \n2            NaN         0  Overcast      Dry                 Daylight   \n3            NaN         N     Clear      Dry                 Daylight   \n4            NaN         0   Raining      Wet                 Daylight   \n\n  PEDROWNOTGRNT  SDOTCOLNUM SPEEDING ST_COLCODE  \\\n0           NaN         NaN      NaN         10   \n1           NaN   6354039.0      NaN         11   \n2           NaN   4323031.0      NaN         32   \n3           NaN         NaN      NaN         23   \n4           NaN   4028032.0      NaN         10   \n\n                                          ST_COLDESC  SEGLANEKEY  \\\n0                                  Entering at angle           0   \n1  From same direction - both going straight - bo...           0   \n2                             One parked--one moving           0   \n3                   From same direction - all others           0   \n4                                  Entering at angle           0   \n\n   CROSSWALKKEY HITPARKEDCAR  \n0             0            N  \n1             0            N  \n2             0            N  \n3             0            N  \n4             0            N  "
                    },
                    "execution_count": 119,
                    "metadata": {},
                    "output_type": "execute_result"
                }
            ],
            "source": "cdf = pd.read_csv(body)\n\npd.set_option('display.max_columns', None)\ncdf.head()"
        },
        {
            "cell_type": "code",
            "execution_count": 120,
            "metadata": {},
            "outputs": [
                {
                    "data": {
                        "text/plain": "(194673, 38)"
                    },
                    "execution_count": 120,
                    "metadata": {},
                    "output_type": "execute_result"
                }
            ],
            "source": "cdf.shape"
        },
        {
            "cell_type": "code",
            "execution_count": 121,
            "metadata": {},
            "outputs": [
                {
                    "data": {
                        "text/plain": "5012"
                    },
                    "execution_count": 121,
                    "metadata": {},
                    "output_type": "execute_result"
                }
            ],
            "source": "cdf[\"ROADCOND\"].isnull().sum()"
        },
        {
            "cell_type": "code",
            "execution_count": 122,
            "metadata": {},
            "outputs": [
                {
                    "data": {
                        "text/plain": "SEVERITYCODE\n1    136485\n2     58188\ndtype: int64"
                    },
                    "execution_count": 122,
                    "metadata": {},
                    "output_type": "execute_result"
                }
            ],
            "source": "cdf.groupby('SEVERITYCODE').size()"
        },
        {
            "cell_type": "code",
            "execution_count": 123,
            "metadata": {},
            "outputs": [
                {
                    "data": {
                        "text/plain": "array(['SEVERITYCODE', 'X', 'Y', 'OBJECTID', 'INCKEY', 'COLDETKEY',\n       'REPORTNO', 'STATUS', 'ADDRTYPE', 'INTKEY', 'LOCATION',\n       'EXCEPTRSNCODE', 'EXCEPTRSNDESC', 'SEVERITYCODE.1', 'SEVERITYDESC',\n       'COLLISIONTYPE', 'PERSONCOUNT', 'PEDCOUNT', 'PEDCYLCOUNT',\n       'VEHCOUNT', 'INCDATE', 'INCDTTM', 'JUNCTIONTYPE', 'SDOT_COLCODE',\n       'SDOT_COLDESC', 'INATTENTIONIND', 'UNDERINFL', 'WEATHER',\n       'ROADCOND', 'LIGHTCOND', 'PEDROWNOTGRNT', 'SDOTCOLNUM', 'SPEEDING',\n       'ST_COLCODE', 'ST_COLDESC', 'SEGLANEKEY', 'CROSSWALKKEY',\n       'HITPARKEDCAR'], dtype=object)"
                    },
                    "execution_count": 123,
                    "metadata": {},
                    "output_type": "execute_result"
                }
            ],
            "source": "cdf.columns.values"
        },
        {
            "cell_type": "code",
            "execution_count": 124,
            "metadata": {},
            "outputs": [],
            "source": "cdf['INCDATE'] = pd.to_datetime(cdf['INCDATE'])\ncdf['INCDTTM'] = pd.to_datetime(cdf['INCDTTM'])"
        },
        {
            "cell_type": "code",
            "execution_count": 184,
            "metadata": {},
            "outputs": [],
            "source": "cdf2 = cdf[['SEVERITYCODE', 'STATUS', 'ADDRTYPE', 'SEVERITYCODE.1', 'COLLISIONTYPE', 'PERSONCOUNT', 'PEDCOUNT', \\\n            'PEDCYLCOUNT', 'VEHCOUNT', 'INCDATE', 'INCDTTM', 'JUNCTIONTYPE', 'SDOT_COLCODE', 'INATTENTIONIND', \\\n            'UNDERINFL', 'WEATHER', 'ROADCOND', 'LIGHTCOND', 'PEDROWNOTGRNT', 'SPEEDING', 'ST_COLCODE', 'HITPARKEDCAR']]"
        },
        {
            "cell_type": "code",
            "execution_count": 185,
            "metadata": {},
            "outputs": [
                {
                    "data": {
                        "text/html": "<div>\n<style scoped>\n    .dataframe tbody tr th:only-of-type {\n        vertical-align: middle;\n    }\n\n    .dataframe tbody tr th {\n        vertical-align: top;\n    }\n\n    .dataframe thead th {\n        text-align: right;\n    }\n</style>\n<table border=\"1\" class=\"dataframe\">\n  <thead>\n    <tr style=\"text-align: right;\">\n      <th></th>\n      <th>SEVERITYCODE</th>\n      <th>STATUS</th>\n      <th>ADDRTYPE</th>\n      <th>SEVERITYCODE.1</th>\n      <th>COLLISIONTYPE</th>\n      <th>PERSONCOUNT</th>\n      <th>PEDCOUNT</th>\n      <th>PEDCYLCOUNT</th>\n      <th>VEHCOUNT</th>\n      <th>INCDATE</th>\n      <th>INCDTTM</th>\n      <th>JUNCTIONTYPE</th>\n      <th>SDOT_COLCODE</th>\n      <th>INATTENTIONIND</th>\n      <th>UNDERINFL</th>\n      <th>WEATHER</th>\n      <th>ROADCOND</th>\n      <th>LIGHTCOND</th>\n      <th>PEDROWNOTGRNT</th>\n      <th>SPEEDING</th>\n      <th>ST_COLCODE</th>\n      <th>HITPARKEDCAR</th>\n    </tr>\n  </thead>\n  <tbody>\n    <tr>\n      <th>0</th>\n      <td>2</td>\n      <td>Matched</td>\n      <td>Intersection</td>\n      <td>2</td>\n      <td>Angles</td>\n      <td>2</td>\n      <td>0</td>\n      <td>0</td>\n      <td>2</td>\n      <td>2013-03-27 00:00:00+00:00</td>\n      <td>2013-03-27 14:54:00</td>\n      <td>At Intersection (intersection related)</td>\n      <td>11</td>\n      <td>NaN</td>\n      <td>N</td>\n      <td>Overcast</td>\n      <td>Wet</td>\n      <td>Daylight</td>\n      <td>NaN</td>\n      <td>NaN</td>\n      <td>10</td>\n      <td>N</td>\n    </tr>\n    <tr>\n      <th>1</th>\n      <td>1</td>\n      <td>Matched</td>\n      <td>Block</td>\n      <td>1</td>\n      <td>Sideswipe</td>\n      <td>2</td>\n      <td>0</td>\n      <td>0</td>\n      <td>2</td>\n      <td>2006-12-20 00:00:00+00:00</td>\n      <td>2006-12-20 18:55:00</td>\n      <td>Mid-Block (not related to intersection)</td>\n      <td>16</td>\n      <td>NaN</td>\n      <td>0</td>\n      <td>Raining</td>\n      <td>Wet</td>\n      <td>Dark - Street Lights On</td>\n      <td>NaN</td>\n      <td>NaN</td>\n      <td>11</td>\n      <td>N</td>\n    </tr>\n    <tr>\n      <th>2</th>\n      <td>1</td>\n      <td>Matched</td>\n      <td>Block</td>\n      <td>1</td>\n      <td>Parked Car</td>\n      <td>4</td>\n      <td>0</td>\n      <td>0</td>\n      <td>3</td>\n      <td>2004-11-18 00:00:00+00:00</td>\n      <td>2004-11-18 10:20:00</td>\n      <td>Mid-Block (not related to intersection)</td>\n      <td>14</td>\n      <td>NaN</td>\n      <td>0</td>\n      <td>Overcast</td>\n      <td>Dry</td>\n      <td>Daylight</td>\n      <td>NaN</td>\n      <td>NaN</td>\n      <td>32</td>\n      <td>N</td>\n    </tr>\n    <tr>\n      <th>3</th>\n      <td>1</td>\n      <td>Matched</td>\n      <td>Block</td>\n      <td>1</td>\n      <td>Other</td>\n      <td>3</td>\n      <td>0</td>\n      <td>0</td>\n      <td>3</td>\n      <td>2013-03-29 00:00:00+00:00</td>\n      <td>2013-03-29 09:26:00</td>\n      <td>Mid-Block (not related to intersection)</td>\n      <td>11</td>\n      <td>NaN</td>\n      <td>N</td>\n      <td>Clear</td>\n      <td>Dry</td>\n      <td>Daylight</td>\n      <td>NaN</td>\n      <td>NaN</td>\n      <td>23</td>\n      <td>N</td>\n    </tr>\n    <tr>\n      <th>4</th>\n      <td>2</td>\n      <td>Matched</td>\n      <td>Intersection</td>\n      <td>2</td>\n      <td>Angles</td>\n      <td>2</td>\n      <td>0</td>\n      <td>0</td>\n      <td>2</td>\n      <td>2004-01-28 00:00:00+00:00</td>\n      <td>2004-01-28 08:04:00</td>\n      <td>At Intersection (intersection related)</td>\n      <td>11</td>\n      <td>NaN</td>\n      <td>0</td>\n      <td>Raining</td>\n      <td>Wet</td>\n      <td>Daylight</td>\n      <td>NaN</td>\n      <td>NaN</td>\n      <td>10</td>\n      <td>N</td>\n    </tr>\n  </tbody>\n</table>\n</div>",
                        "text/plain": "   SEVERITYCODE   STATUS      ADDRTYPE  SEVERITYCODE.1 COLLISIONTYPE  \\\n0             2  Matched  Intersection               2        Angles   \n1             1  Matched         Block               1     Sideswipe   \n2             1  Matched         Block               1    Parked Car   \n3             1  Matched         Block               1         Other   \n4             2  Matched  Intersection               2        Angles   \n\n   PERSONCOUNT  PEDCOUNT  PEDCYLCOUNT  VEHCOUNT                   INCDATE  \\\n0            2         0            0         2 2013-03-27 00:00:00+00:00   \n1            2         0            0         2 2006-12-20 00:00:00+00:00   \n2            4         0            0         3 2004-11-18 00:00:00+00:00   \n3            3         0            0         3 2013-03-29 00:00:00+00:00   \n4            2         0            0         2 2004-01-28 00:00:00+00:00   \n\n              INCDTTM                             JUNCTIONTYPE  SDOT_COLCODE  \\\n0 2013-03-27 14:54:00   At Intersection (intersection related)            11   \n1 2006-12-20 18:55:00  Mid-Block (not related to intersection)            16   \n2 2004-11-18 10:20:00  Mid-Block (not related to intersection)            14   \n3 2013-03-29 09:26:00  Mid-Block (not related to intersection)            11   \n4 2004-01-28 08:04:00   At Intersection (intersection related)            11   \n\n  INATTENTIONIND UNDERINFL   WEATHER ROADCOND                LIGHTCOND  \\\n0            NaN         N  Overcast      Wet                 Daylight   \n1            NaN         0   Raining      Wet  Dark - Street Lights On   \n2            NaN         0  Overcast      Dry                 Daylight   \n3            NaN         N     Clear      Dry                 Daylight   \n4            NaN         0   Raining      Wet                 Daylight   \n\n  PEDROWNOTGRNT SPEEDING ST_COLCODE HITPARKEDCAR  \n0           NaN      NaN         10            N  \n1           NaN      NaN         11            N  \n2           NaN      NaN         32            N  \n3           NaN      NaN         23            N  \n4           NaN      NaN         10            N  "
                    },
                    "execution_count": 185,
                    "metadata": {},
                    "output_type": "execute_result"
                }
            ],
            "source": "cdf2.head()"
        },
        {
            "cell_type": "code",
            "execution_count": 186,
            "metadata": {},
            "outputs": [
                {
                    "data": {
                        "text/plain": "STATUS\nMatched      189786\nUnmatched      4887\ndtype: int64"
                    },
                    "execution_count": 186,
                    "metadata": {},
                    "output_type": "execute_result"
                }
            ],
            "source": "cdf2.groupby('STATUS').size()"
        },
        {
            "cell_type": "code",
            "execution_count": 187,
            "metadata": {},
            "outputs": [],
            "source": "cdf2 = cdf2[cdf2.STATUS != \"Unmatched\"]\ncdf2 = cdf2.drop('STATUS', 1)"
        },
        {
            "cell_type": "code",
            "execution_count": 188,
            "metadata": {},
            "outputs": [
                {
                    "data": {
                        "text/plain": "ADDRTYPE\nAlley              747\nBlock           123663\nIntersection     63559\ndtype: int64"
                    },
                    "execution_count": 188,
                    "metadata": {},
                    "output_type": "execute_result"
                }
            ],
            "source": "cdf2.groupby('ADDRTYPE').size()"
        },
        {
            "cell_type": "code",
            "execution_count": 189,
            "metadata": {},
            "outputs": [
                {
                    "data": {
                        "text/plain": "SEVERITYCODE.1\n1    132627\n2     57159\ndtype: int64"
                    },
                    "execution_count": 189,
                    "metadata": {},
                    "output_type": "execute_result"
                }
            ],
            "source": "cdf2.groupby('SEVERITYCODE.1').size()"
        },
        {
            "cell_type": "code",
            "execution_count": 190,
            "metadata": {},
            "outputs": [
                {
                    "data": {
                        "text/plain": "SEVERITYCODE\n1    132627\n2     57159\ndtype: int64"
                    },
                    "execution_count": 190,
                    "metadata": {},
                    "output_type": "execute_result"
                }
            ],
            "source": "cdf2.groupby('SEVERITYCODE').size()"
        },
        {
            "cell_type": "code",
            "execution_count": 191,
            "metadata": {},
            "outputs": [],
            "source": "cdf2 = cdf2.drop('SEVERITYCODE.1', 1)"
        },
        {
            "cell_type": "code",
            "execution_count": 192,
            "metadata": {},
            "outputs": [
                {
                    "data": {
                        "text/plain": "COLLISIONTYPE\nAngles        34674\nCycles         5415\nHead On        2024\nLeft Turn     13703\nOther         23703\nParked Car    47986\nPedestrian     6607\nRear Ended    34089\nRight Turn     2956\nSideswipe     18608\ndtype: int64"
                    },
                    "execution_count": 192,
                    "metadata": {},
                    "output_type": "execute_result"
                }
            ],
            "source": "cdf2.groupby('COLLISIONTYPE').size()"
        },
        {
            "cell_type": "code",
            "execution_count": 193,
            "metadata": {},
            "outputs": [
                {
                    "data": {
                        "text/plain": "JUNCTIONTYPE\nAt Intersection (but not related to intersection)     2060\nAt Intersection (intersection related)               61334\nDriveway Junction                                    10538\nMid-Block (but intersection related)                 22388\nMid-Block (not related to intersection)              87119\nRamp Junction                                          162\nUnknown                                                  7\ndtype: int64"
                    },
                    "execution_count": 193,
                    "metadata": {},
                    "output_type": "execute_result"
                }
            ],
            "source": "cdf2.groupby('JUNCTIONTYPE').size()"
        },
        {
            "cell_type": "code",
            "execution_count": 194,
            "metadata": {},
            "outputs": [
                {
                    "data": {
                        "text/plain": "INATTENTIONIND\nY    29805\ndtype: int64"
                    },
                    "execution_count": 194,
                    "metadata": {},
                    "output_type": "execute_result"
                }
            ],
            "source": "cdf2.groupby('INATTENTIONIND').size()"
        },
        {
            "cell_type": "code",
            "execution_count": 195,
            "metadata": {},
            "outputs": [
                {
                    "data": {
                        "text/plain": "INATTENTIONIND\n0    159981\n1     29805\ndtype: int64"
                    },
                    "execution_count": 195,
                    "metadata": {},
                    "output_type": "execute_result"
                }
            ],
            "source": "cdf2['INATTENTIONIND'] = cdf2['INATTENTIONIND'].replace(np.nan, 0)\ncdf2['INATTENTIONIND'] = cdf2['INATTENTIONIND'].replace(\"Y\", 1)\ncdf2.groupby('INATTENTIONIND').size()"
        },
        {
            "cell_type": "code",
            "execution_count": 196,
            "metadata": {},
            "outputs": [
                {
                    "data": {
                        "text/plain": "UNDERINFL\n0     80391\n1      3995\nN    100274\nY      5126\ndtype: int64"
                    },
                    "execution_count": 196,
                    "metadata": {},
                    "output_type": "execute_result"
                }
            ],
            "source": "cdf2.groupby('UNDERINFL').size()"
        },
        {
            "cell_type": "code",
            "execution_count": 197,
            "metadata": {},
            "outputs": [
                {
                    "data": {
                        "text/plain": "UNDERINFL\n0    180665\n1      9121\ndtype: int64"
                    },
                    "execution_count": 197,
                    "metadata": {},
                    "output_type": "execute_result"
                }
            ],
            "source": "cdf2['UNDERINFL'] = cdf2['UNDERINFL'].replace(['0','N'],0)\ncdf2['UNDERINFL'] = cdf2['UNDERINFL'].replace(['1','Y'],1)\ncdf2.groupby('UNDERINFL').size()"
        },
        {
            "cell_type": "code",
            "execution_count": 198,
            "metadata": {},
            "outputs": [
                {
                    "data": {
                        "text/plain": "PEDROWNOTGRNT\nY    4667\ndtype: int64"
                    },
                    "execution_count": 198,
                    "metadata": {},
                    "output_type": "execute_result"
                }
            ],
            "source": "cdf2.groupby('PEDROWNOTGRNT').size()"
        },
        {
            "cell_type": "code",
            "execution_count": 199,
            "metadata": {},
            "outputs": [
                {
                    "data": {
                        "text/plain": "PEDROWNOTGRNT\n0    185119\n1      4667\ndtype: int64"
                    },
                    "execution_count": 199,
                    "metadata": {},
                    "output_type": "execute_result"
                }
            ],
            "source": "cdf2['PEDROWNOTGRNT'] = cdf2['PEDROWNOTGRNT'].replace(np.nan, 0)\ncdf2['PEDROWNOTGRNT'] = cdf2['PEDROWNOTGRNT'].replace(\"Y\", 1)\ncdf2.groupby('PEDROWNOTGRNT').size()"
        },
        {
            "cell_type": "code",
            "execution_count": 200,
            "metadata": {},
            "outputs": [
                {
                    "data": {
                        "text/plain": "SPEEDING\nY    9333\ndtype: int64"
                    },
                    "execution_count": 200,
                    "metadata": {},
                    "output_type": "execute_result"
                }
            ],
            "source": "cdf2.groupby('SPEEDING').size()"
        },
        {
            "cell_type": "code",
            "execution_count": 201,
            "metadata": {},
            "outputs": [
                {
                    "data": {
                        "text/plain": "SPEEDING\n0    180453\n1      9333\ndtype: int64"
                    },
                    "execution_count": 201,
                    "metadata": {},
                    "output_type": "execute_result"
                }
            ],
            "source": "cdf2['SPEEDING'] = cdf2['SPEEDING'].replace(np.nan, 0)\ncdf2['SPEEDING'] = cdf2['SPEEDING'].replace(\"Y\", 1)\ncdf2.groupby('SPEEDING').size()"
        },
        {
            "cell_type": "code",
            "execution_count": 202,
            "metadata": {},
            "outputs": [
                {
                    "data": {
                        "text/plain": "HITPARKEDCAR\nN    182868\nY      6918\ndtype: int64"
                    },
                    "execution_count": 202,
                    "metadata": {},
                    "output_type": "execute_result"
                }
            ],
            "source": "cdf2.groupby('HITPARKEDCAR').size()"
        },
        {
            "cell_type": "code",
            "execution_count": 203,
            "metadata": {},
            "outputs": [
                {
                    "data": {
                        "text/plain": "HITPARKEDCAR\n0    182868\n1      6918\ndtype: int64"
                    },
                    "execution_count": 203,
                    "metadata": {},
                    "output_type": "execute_result"
                }
            ],
            "source": "cdf2['HITPARKEDCAR'] = cdf2['HITPARKEDCAR'].replace(\"N\", 0)\ncdf2['HITPARKEDCAR'] = cdf2['HITPARKEDCAR'].replace(\"Y\", 1)\ncdf2.groupby('HITPARKEDCAR').size()"
        },
        {
            "cell_type": "code",
            "execution_count": 204,
            "metadata": {},
            "outputs": [
                {
                    "data": {
                        "text/html": "<div>\n<style scoped>\n    .dataframe tbody tr th:only-of-type {\n        vertical-align: middle;\n    }\n\n    .dataframe tbody tr th {\n        vertical-align: top;\n    }\n\n    .dataframe thead th {\n        text-align: right;\n    }\n</style>\n<table border=\"1\" class=\"dataframe\">\n  <thead>\n    <tr style=\"text-align: right;\">\n      <th></th>\n      <th>SEVERITYCODE</th>\n      <th>PERSONCOUNT</th>\n      <th>PEDCOUNT</th>\n      <th>PEDCYLCOUNT</th>\n      <th>VEHCOUNT</th>\n      <th>SDOT_COLCODE</th>\n      <th>INATTENTIONIND</th>\n      <th>UNDERINFL</th>\n      <th>PEDROWNOTGRNT</th>\n      <th>SPEEDING</th>\n      <th>HITPARKEDCAR</th>\n    </tr>\n  </thead>\n  <tbody>\n    <tr>\n      <th>count</th>\n      <td>189786.000000</td>\n      <td>189786.000000</td>\n      <td>189786.000000</td>\n      <td>189786.000000</td>\n      <td>189786.000000</td>\n      <td>189786.000000</td>\n      <td>189786.000000</td>\n      <td>189786.000000</td>\n      <td>189786.000000</td>\n      <td>189786.000000</td>\n      <td>189786.000000</td>\n    </tr>\n    <tr>\n      <th>mean</th>\n      <td>1.301176</td>\n      <td>2.459017</td>\n      <td>0.038096</td>\n      <td>0.029122</td>\n      <td>1.970209</td>\n      <td>13.926854</td>\n      <td>0.157045</td>\n      <td>0.048059</td>\n      <td>0.024591</td>\n      <td>0.049176</td>\n      <td>0.036452</td>\n    </tr>\n    <tr>\n      <th>std</th>\n      <td>0.458770</td>\n      <td>1.354894</td>\n      <td>0.200594</td>\n      <td>0.169492</td>\n      <td>0.557751</td>\n      <td>6.857187</td>\n      <td>0.363844</td>\n      <td>0.213892</td>\n      <td>0.154875</td>\n      <td>0.216237</td>\n      <td>0.187411</td>\n    </tr>\n    <tr>\n      <th>min</th>\n      <td>1.000000</td>\n      <td>0.000000</td>\n      <td>0.000000</td>\n      <td>0.000000</td>\n      <td>0.000000</td>\n      <td>0.000000</td>\n      <td>0.000000</td>\n      <td>0.000000</td>\n      <td>0.000000</td>\n      <td>0.000000</td>\n      <td>0.000000</td>\n    </tr>\n    <tr>\n      <th>25%</th>\n      <td>1.000000</td>\n      <td>2.000000</td>\n      <td>0.000000</td>\n      <td>0.000000</td>\n      <td>2.000000</td>\n      <td>11.000000</td>\n      <td>0.000000</td>\n      <td>0.000000</td>\n      <td>0.000000</td>\n      <td>0.000000</td>\n      <td>0.000000</td>\n    </tr>\n    <tr>\n      <th>50%</th>\n      <td>1.000000</td>\n      <td>2.000000</td>\n      <td>0.000000</td>\n      <td>0.000000</td>\n      <td>2.000000</td>\n      <td>13.000000</td>\n      <td>0.000000</td>\n      <td>0.000000</td>\n      <td>0.000000</td>\n      <td>0.000000</td>\n      <td>0.000000</td>\n    </tr>\n    <tr>\n      <th>75%</th>\n      <td>2.000000</td>\n      <td>3.000000</td>\n      <td>0.000000</td>\n      <td>0.000000</td>\n      <td>2.000000</td>\n      <td>14.000000</td>\n      <td>0.000000</td>\n      <td>0.000000</td>\n      <td>0.000000</td>\n      <td>0.000000</td>\n      <td>0.000000</td>\n    </tr>\n    <tr>\n      <th>max</th>\n      <td>2.000000</td>\n      <td>81.000000</td>\n      <td>6.000000</td>\n      <td>2.000000</td>\n      <td>12.000000</td>\n      <td>69.000000</td>\n      <td>1.000000</td>\n      <td>1.000000</td>\n      <td>1.000000</td>\n      <td>1.000000</td>\n      <td>1.000000</td>\n    </tr>\n  </tbody>\n</table>\n</div>",
                        "text/plain": "        SEVERITYCODE    PERSONCOUNT       PEDCOUNT    PEDCYLCOUNT  \\\ncount  189786.000000  189786.000000  189786.000000  189786.000000   \nmean        1.301176       2.459017       0.038096       0.029122   \nstd         0.458770       1.354894       0.200594       0.169492   \nmin         1.000000       0.000000       0.000000       0.000000   \n25%         1.000000       2.000000       0.000000       0.000000   \n50%         1.000000       2.000000       0.000000       0.000000   \n75%         2.000000       3.000000       0.000000       0.000000   \nmax         2.000000      81.000000       6.000000       2.000000   \n\n            VEHCOUNT   SDOT_COLCODE  INATTENTIONIND      UNDERINFL  \\\ncount  189786.000000  189786.000000   189786.000000  189786.000000   \nmean        1.970209      13.926854        0.157045       0.048059   \nstd         0.557751       6.857187        0.363844       0.213892   \nmin         0.000000       0.000000        0.000000       0.000000   \n25%         2.000000      11.000000        0.000000       0.000000   \n50%         2.000000      13.000000        0.000000       0.000000   \n75%         2.000000      14.000000        0.000000       0.000000   \nmax        12.000000      69.000000        1.000000       1.000000   \n\n       PEDROWNOTGRNT       SPEEDING   HITPARKEDCAR  \ncount  189786.000000  189786.000000  189786.000000  \nmean        0.024591       0.049176       0.036452  \nstd         0.154875       0.216237       0.187411  \nmin         0.000000       0.000000       0.000000  \n25%         0.000000       0.000000       0.000000  \n50%         0.000000       0.000000       0.000000  \n75%         0.000000       0.000000       0.000000  \nmax         1.000000       1.000000       1.000000  "
                    },
                    "execution_count": 204,
                    "metadata": {},
                    "output_type": "execute_result"
                }
            ],
            "source": "cdf2.describe()"
        },
        {
            "cell_type": "code",
            "execution_count": 205,
            "metadata": {},
            "outputs": [
                {
                    "data": {
                        "text/plain": "SEVERITYCODE         0\nADDRTYPE          1817\nCOLLISIONTYPE       21\nPERSONCOUNT          0\nPEDCOUNT             0\nPEDCYLCOUNT          0\nVEHCOUNT             0\nINCDATE              0\nINCDTTM              0\nJUNCTIONTYPE      6178\nSDOT_COLCODE         0\nINATTENTIONIND       0\nUNDERINFL            0\nWEATHER            197\nROADCOND           128\nLIGHTCOND          286\nPEDROWNOTGRNT        0\nSPEEDING             0\nST_COLCODE          18\nHITPARKEDCAR         0\ndtype: int64"
                    },
                    "execution_count": 205,
                    "metadata": {},
                    "output_type": "execute_result"
                }
            ],
            "source": " cdf2.isnull().sum()"
        },
        {
            "cell_type": "code",
            "execution_count": 206,
            "metadata": {},
            "outputs": [
                {
                    "data": {
                        "text/html": "<div>\n<style scoped>\n    .dataframe tbody tr th:only-of-type {\n        vertical-align: middle;\n    }\n\n    .dataframe tbody tr th {\n        vertical-align: top;\n    }\n\n    .dataframe thead th {\n        text-align: right;\n    }\n</style>\n<table border=\"1\" class=\"dataframe\">\n  <thead>\n    <tr style=\"text-align: right;\">\n      <th></th>\n      <th>SEVERITYCODE</th>\n      <th>ADDRTYPE</th>\n      <th>COLLISIONTYPE</th>\n      <th>PERSONCOUNT</th>\n      <th>PEDCOUNT</th>\n      <th>PEDCYLCOUNT</th>\n      <th>VEHCOUNT</th>\n      <th>INCDATE</th>\n      <th>INCDTTM</th>\n      <th>JUNCTIONTYPE</th>\n      <th>SDOT_COLCODE</th>\n      <th>INATTENTIONIND</th>\n      <th>UNDERINFL</th>\n      <th>WEATHER</th>\n      <th>ROADCOND</th>\n      <th>LIGHTCOND</th>\n      <th>PEDROWNOTGRNT</th>\n      <th>SPEEDING</th>\n      <th>ST_COLCODE</th>\n      <th>HITPARKEDCAR</th>\n    </tr>\n  </thead>\n  <tbody>\n    <tr>\n      <th>0</th>\n      <td>2</td>\n      <td>Intersection</td>\n      <td>Angles</td>\n      <td>2</td>\n      <td>0</td>\n      <td>0</td>\n      <td>2</td>\n      <td>2013-03-27 00:00:00+00:00</td>\n      <td>2013-03-27 14:54:00</td>\n      <td>At Intersection (intersection related)</td>\n      <td>11</td>\n      <td>0</td>\n      <td>0</td>\n      <td>Overcast</td>\n      <td>Wet</td>\n      <td>Daylight</td>\n      <td>0</td>\n      <td>0</td>\n      <td>10</td>\n      <td>0</td>\n    </tr>\n    <tr>\n      <th>1</th>\n      <td>1</td>\n      <td>Block</td>\n      <td>Sideswipe</td>\n      <td>2</td>\n      <td>0</td>\n      <td>0</td>\n      <td>2</td>\n      <td>2006-12-20 00:00:00+00:00</td>\n      <td>2006-12-20 18:55:00</td>\n      <td>Mid-Block (not related to intersection)</td>\n      <td>16</td>\n      <td>0</td>\n      <td>0</td>\n      <td>Raining</td>\n      <td>Wet</td>\n      <td>Dark - Street Lights On</td>\n      <td>0</td>\n      <td>0</td>\n      <td>11</td>\n      <td>0</td>\n    </tr>\n    <tr>\n      <th>2</th>\n      <td>1</td>\n      <td>Block</td>\n      <td>Parked Car</td>\n      <td>4</td>\n      <td>0</td>\n      <td>0</td>\n      <td>3</td>\n      <td>2004-11-18 00:00:00+00:00</td>\n      <td>2004-11-18 10:20:00</td>\n      <td>Mid-Block (not related to intersection)</td>\n      <td>14</td>\n      <td>0</td>\n      <td>0</td>\n      <td>Overcast</td>\n      <td>Dry</td>\n      <td>Daylight</td>\n      <td>0</td>\n      <td>0</td>\n      <td>32</td>\n      <td>0</td>\n    </tr>\n    <tr>\n      <th>3</th>\n      <td>1</td>\n      <td>Block</td>\n      <td>Other</td>\n      <td>3</td>\n      <td>0</td>\n      <td>0</td>\n      <td>3</td>\n      <td>2013-03-29 00:00:00+00:00</td>\n      <td>2013-03-29 09:26:00</td>\n      <td>Mid-Block (not related to intersection)</td>\n      <td>11</td>\n      <td>0</td>\n      <td>0</td>\n      <td>Clear</td>\n      <td>Dry</td>\n      <td>Daylight</td>\n      <td>0</td>\n      <td>0</td>\n      <td>23</td>\n      <td>0</td>\n    </tr>\n    <tr>\n      <th>4</th>\n      <td>2</td>\n      <td>Intersection</td>\n      <td>Angles</td>\n      <td>2</td>\n      <td>0</td>\n      <td>0</td>\n      <td>2</td>\n      <td>2004-01-28 00:00:00+00:00</td>\n      <td>2004-01-28 08:04:00</td>\n      <td>At Intersection (intersection related)</td>\n      <td>11</td>\n      <td>0</td>\n      <td>0</td>\n      <td>Raining</td>\n      <td>Wet</td>\n      <td>Daylight</td>\n      <td>0</td>\n      <td>0</td>\n      <td>10</td>\n      <td>0</td>\n    </tr>\n  </tbody>\n</table>\n</div>",
                        "text/plain": "   SEVERITYCODE      ADDRTYPE COLLISIONTYPE  PERSONCOUNT  PEDCOUNT  \\\n0             2  Intersection        Angles            2         0   \n1             1         Block     Sideswipe            2         0   \n2             1         Block    Parked Car            4         0   \n3             1         Block         Other            3         0   \n4             2  Intersection        Angles            2         0   \n\n   PEDCYLCOUNT  VEHCOUNT                   INCDATE             INCDTTM  \\\n0            0         2 2013-03-27 00:00:00+00:00 2013-03-27 14:54:00   \n1            0         2 2006-12-20 00:00:00+00:00 2006-12-20 18:55:00   \n2            0         3 2004-11-18 00:00:00+00:00 2004-11-18 10:20:00   \n3            0         3 2013-03-29 00:00:00+00:00 2013-03-29 09:26:00   \n4            0         2 2004-01-28 00:00:00+00:00 2004-01-28 08:04:00   \n\n                              JUNCTIONTYPE  SDOT_COLCODE  INATTENTIONIND  \\\n0   At Intersection (intersection related)            11               0   \n1  Mid-Block (not related to intersection)            16               0   \n2  Mid-Block (not related to intersection)            14               0   \n3  Mid-Block (not related to intersection)            11               0   \n4   At Intersection (intersection related)            11               0   \n\n   UNDERINFL   WEATHER ROADCOND                LIGHTCOND  PEDROWNOTGRNT  \\\n0          0  Overcast      Wet                 Daylight              0   \n1          0   Raining      Wet  Dark - Street Lights On              0   \n2          0  Overcast      Dry                 Daylight              0   \n3          0     Clear      Dry                 Daylight              0   \n4          0   Raining      Wet                 Daylight              0   \n\n   SPEEDING ST_COLCODE  HITPARKEDCAR  \n0         0         10             0  \n1         0         11             0  \n2         0         32             0  \n3         0         23             0  \n4         0         10             0  "
                    },
                    "execution_count": 206,
                    "metadata": {},
                    "output_type": "execute_result"
                }
            ],
            "source": "cdf2.head()"
        },
        {
            "cell_type": "code",
            "execution_count": 207,
            "metadata": {},
            "outputs": [],
            "source": "cdf2['dayofweek'] = cdf2['INCDATE'].dt.dayofweek\ncdf2['weekend']= cdf2['dayofweek'].apply(lambda x: 1 if (x>3)  else 0)\n\ncdf2 = cdf2.drop('dayofweek', 1)"
        },
        {
            "cell_type": "code",
            "execution_count": 210,
            "metadata": {},
            "outputs": [
                {
                    "data": {
                        "text/plain": "seasonofyear\n1    44665\n2    47643\n3    48285\n4    49193\ndtype: int64"
                    },
                    "execution_count": 210,
                    "metadata": {},
                    "output_type": "execute_result"
                }
            ],
            "source": "cdf2['monthofyear'] = cdf2['INCDATE'].dt.month\ncdf2['seasonofyear'] = (cdf2['monthofyear']%12 + 3)//3\n\ncdf2.groupby('seasonofyear').size()\n"
        },
        {
            "cell_type": "code",
            "execution_count": null,
            "metadata": {},
            "outputs": [],
            "source": "cdf2 = cdf2.drop('INCDATE', 1)"
        }
    ],
    "metadata": {
        "kernelspec": {
            "display_name": "Python 3.6",
            "language": "python",
            "name": "python3"
        },
        "language_info": {
            "codemirror_mode": {
                "name": "ipython",
                "version": 3
            },
            "file_extension": ".py",
            "mimetype": "text/x-python",
            "name": "python",
            "nbconvert_exporter": "python",
            "pygments_lexer": "ipython3",
            "version": "3.6.9"
        }
    },
    "nbformat": 4,
    "nbformat_minor": 1
}