{
    "cells": [
        {
            "cell_type": "markdown",
            "metadata": {
                "collapsed": true
            },
            "source": "# Data Science Capstone Project\n## Title: Predicting Severity of Collisions"
        },
        {
            "cell_type": "code",
            "execution_count": 1,
            "metadata": {},
            "outputs": [
                {
                    "name": "stdout",
                    "output_type": "stream",
                    "text": "Hello Capstone Project Course!\n"
                }
            ],
            "source": "print('Hello Capstone Project Course!')"
        },
        {
            "cell_type": "markdown",
            "metadata": {},
            "source": "### Import libraries and the database:"
        },
        {
            "cell_type": "code",
            "execution_count": 2,
            "metadata": {},
            "outputs": [],
            "source": "import pandas as pd\nimport numpy as np\nimport itertools\nimport types\nfrom botocore.client import Config\nimport ibm_boto3\nfrom sklearn import preprocessing\nimport seaborn as sns\nimport matplotlib.pyplot as plt\nfrom matplotlib.ticker import NullFormatter\nimport matplotlib.ticker as ticker\n%matplotlib inline"
        },
        {
            "cell_type": "code",
            "execution_count": 3,
            "metadata": {},
            "outputs": [],
            "source": "# The code was removed by Watson Studio for sharing."
        },
        {
            "cell_type": "markdown",
            "metadata": {},
            "source": "### Conduct initial database loading and exploration:"
        },
        {
            "cell_type": "code",
            "execution_count": 4,
            "metadata": {},
            "outputs": [
                {
                    "name": "stderr",
                    "output_type": "stream",
                    "text": "/opt/conda/envs/Python36/lib/python3.6/site-packages/IPython/core/interactiveshell.py:3020: DtypeWarning: Columns (33) have mixed types. Specify dtype option on import or set low_memory=False.\n  interactivity=interactivity, compiler=compiler, result=result)\n"
                },
                {
                    "data": {
                        "text/html": "<div>\n<style scoped>\n    .dataframe tbody tr th:only-of-type {\n        vertical-align: middle;\n    }\n\n    .dataframe tbody tr th {\n        vertical-align: top;\n    }\n\n    .dataframe thead th {\n        text-align: right;\n    }\n</style>\n<table border=\"1\" class=\"dataframe\">\n  <thead>\n    <tr style=\"text-align: right;\">\n      <th></th>\n      <th>SEVERITYCODE</th>\n      <th>X</th>\n      <th>Y</th>\n      <th>OBJECTID</th>\n      <th>INCKEY</th>\n      <th>COLDETKEY</th>\n      <th>REPORTNO</th>\n      <th>STATUS</th>\n      <th>ADDRTYPE</th>\n      <th>INTKEY</th>\n      <th>LOCATION</th>\n      <th>EXCEPTRSNCODE</th>\n      <th>EXCEPTRSNDESC</th>\n      <th>SEVERITYCODE.1</th>\n      <th>SEVERITYDESC</th>\n      <th>COLLISIONTYPE</th>\n      <th>PERSONCOUNT</th>\n      <th>PEDCOUNT</th>\n      <th>PEDCYLCOUNT</th>\n      <th>VEHCOUNT</th>\n      <th>INCDATE</th>\n      <th>INCDTTM</th>\n      <th>JUNCTIONTYPE</th>\n      <th>SDOT_COLCODE</th>\n      <th>SDOT_COLDESC</th>\n      <th>INATTENTIONIND</th>\n      <th>UNDERINFL</th>\n      <th>WEATHER</th>\n      <th>ROADCOND</th>\n      <th>LIGHTCOND</th>\n      <th>PEDROWNOTGRNT</th>\n      <th>SDOTCOLNUM</th>\n      <th>SPEEDING</th>\n      <th>ST_COLCODE</th>\n      <th>ST_COLDESC</th>\n      <th>SEGLANEKEY</th>\n      <th>CROSSWALKKEY</th>\n      <th>HITPARKEDCAR</th>\n    </tr>\n  </thead>\n  <tbody>\n    <tr>\n      <th>0</th>\n      <td>2</td>\n      <td>-122.323148</td>\n      <td>47.703140</td>\n      <td>1</td>\n      <td>1307</td>\n      <td>1307</td>\n      <td>3502005</td>\n      <td>Matched</td>\n      <td>Intersection</td>\n      <td>37475.0</td>\n      <td>5TH AVE NE AND NE 103RD ST</td>\n      <td></td>\n      <td>NaN</td>\n      <td>2</td>\n      <td>Injury Collision</td>\n      <td>Angles</td>\n      <td>2</td>\n      <td>0</td>\n      <td>0</td>\n      <td>2</td>\n      <td>2013/03/27 00:00:00+00</td>\n      <td>3/27/2013 2:54:00 PM</td>\n      <td>At Intersection (intersection related)</td>\n      <td>11</td>\n      <td>MOTOR VEHICLE STRUCK MOTOR VEHICLE, FRONT END ...</td>\n      <td>NaN</td>\n      <td>N</td>\n      <td>Overcast</td>\n      <td>Wet</td>\n      <td>Daylight</td>\n      <td>NaN</td>\n      <td>NaN</td>\n      <td>NaN</td>\n      <td>10</td>\n      <td>Entering at angle</td>\n      <td>0</td>\n      <td>0</td>\n      <td>N</td>\n    </tr>\n    <tr>\n      <th>1</th>\n      <td>1</td>\n      <td>-122.347294</td>\n      <td>47.647172</td>\n      <td>2</td>\n      <td>52200</td>\n      <td>52200</td>\n      <td>2607959</td>\n      <td>Matched</td>\n      <td>Block</td>\n      <td>NaN</td>\n      <td>AURORA BR BETWEEN RAYE ST AND BRIDGE WAY N</td>\n      <td>NaN</td>\n      <td>NaN</td>\n      <td>1</td>\n      <td>Property Damage Only Collision</td>\n      <td>Sideswipe</td>\n      <td>2</td>\n      <td>0</td>\n      <td>0</td>\n      <td>2</td>\n      <td>2006/12/20 00:00:00+00</td>\n      <td>12/20/2006 6:55:00 PM</td>\n      <td>Mid-Block (not related to intersection)</td>\n      <td>16</td>\n      <td>MOTOR VEHICLE STRUCK MOTOR VEHICLE, LEFT SIDE ...</td>\n      <td>NaN</td>\n      <td>0</td>\n      <td>Raining</td>\n      <td>Wet</td>\n      <td>Dark - Street Lights On</td>\n      <td>NaN</td>\n      <td>6354039.0</td>\n      <td>NaN</td>\n      <td>11</td>\n      <td>From same direction - both going straight - bo...</td>\n      <td>0</td>\n      <td>0</td>\n      <td>N</td>\n    </tr>\n    <tr>\n      <th>2</th>\n      <td>1</td>\n      <td>-122.334540</td>\n      <td>47.607871</td>\n      <td>3</td>\n      <td>26700</td>\n      <td>26700</td>\n      <td>1482393</td>\n      <td>Matched</td>\n      <td>Block</td>\n      <td>NaN</td>\n      <td>4TH AVE BETWEEN SENECA ST AND UNIVERSITY ST</td>\n      <td>NaN</td>\n      <td>NaN</td>\n      <td>1</td>\n      <td>Property Damage Only Collision</td>\n      <td>Parked Car</td>\n      <td>4</td>\n      <td>0</td>\n      <td>0</td>\n      <td>3</td>\n      <td>2004/11/18 00:00:00+00</td>\n      <td>11/18/2004 10:20:00 AM</td>\n      <td>Mid-Block (not related to intersection)</td>\n      <td>14</td>\n      <td>MOTOR VEHICLE STRUCK MOTOR VEHICLE, REAR END</td>\n      <td>NaN</td>\n      <td>0</td>\n      <td>Overcast</td>\n      <td>Dry</td>\n      <td>Daylight</td>\n      <td>NaN</td>\n      <td>4323031.0</td>\n      <td>NaN</td>\n      <td>32</td>\n      <td>One parked--one moving</td>\n      <td>0</td>\n      <td>0</td>\n      <td>N</td>\n    </tr>\n    <tr>\n      <th>3</th>\n      <td>1</td>\n      <td>-122.334803</td>\n      <td>47.604803</td>\n      <td>4</td>\n      <td>1144</td>\n      <td>1144</td>\n      <td>3503937</td>\n      <td>Matched</td>\n      <td>Block</td>\n      <td>NaN</td>\n      <td>2ND AVE BETWEEN MARION ST AND MADISON ST</td>\n      <td></td>\n      <td>NaN</td>\n      <td>1</td>\n      <td>Property Damage Only Collision</td>\n      <td>Other</td>\n      <td>3</td>\n      <td>0</td>\n      <td>0</td>\n      <td>3</td>\n      <td>2013/03/29 00:00:00+00</td>\n      <td>3/29/2013 9:26:00 AM</td>\n      <td>Mid-Block (not related to intersection)</td>\n      <td>11</td>\n      <td>MOTOR VEHICLE STRUCK MOTOR VEHICLE, FRONT END ...</td>\n      <td>NaN</td>\n      <td>N</td>\n      <td>Clear</td>\n      <td>Dry</td>\n      <td>Daylight</td>\n      <td>NaN</td>\n      <td>NaN</td>\n      <td>NaN</td>\n      <td>23</td>\n      <td>From same direction - all others</td>\n      <td>0</td>\n      <td>0</td>\n      <td>N</td>\n    </tr>\n    <tr>\n      <th>4</th>\n      <td>2</td>\n      <td>-122.306426</td>\n      <td>47.545739</td>\n      <td>5</td>\n      <td>17700</td>\n      <td>17700</td>\n      <td>1807429</td>\n      <td>Matched</td>\n      <td>Intersection</td>\n      <td>34387.0</td>\n      <td>SWIFT AVE S AND SWIFT AV OFF RP</td>\n      <td>NaN</td>\n      <td>NaN</td>\n      <td>2</td>\n      <td>Injury Collision</td>\n      <td>Angles</td>\n      <td>2</td>\n      <td>0</td>\n      <td>0</td>\n      <td>2</td>\n      <td>2004/01/28 00:00:00+00</td>\n      <td>1/28/2004 8:04:00 AM</td>\n      <td>At Intersection (intersection related)</td>\n      <td>11</td>\n      <td>MOTOR VEHICLE STRUCK MOTOR VEHICLE, FRONT END ...</td>\n      <td>NaN</td>\n      <td>0</td>\n      <td>Raining</td>\n      <td>Wet</td>\n      <td>Daylight</td>\n      <td>NaN</td>\n      <td>4028032.0</td>\n      <td>NaN</td>\n      <td>10</td>\n      <td>Entering at angle</td>\n      <td>0</td>\n      <td>0</td>\n      <td>N</td>\n    </tr>\n  </tbody>\n</table>\n</div>",
                        "text/plain": "   SEVERITYCODE           X          Y  OBJECTID  INCKEY  COLDETKEY REPORTNO  \\\n0             2 -122.323148  47.703140         1    1307       1307  3502005   \n1             1 -122.347294  47.647172         2   52200      52200  2607959   \n2             1 -122.334540  47.607871         3   26700      26700  1482393   \n3             1 -122.334803  47.604803         4    1144       1144  3503937   \n4             2 -122.306426  47.545739         5   17700      17700  1807429   \n\n    STATUS      ADDRTYPE   INTKEY  \\\n0  Matched  Intersection  37475.0   \n1  Matched         Block      NaN   \n2  Matched         Block      NaN   \n3  Matched         Block      NaN   \n4  Matched  Intersection  34387.0   \n\n                                      LOCATION EXCEPTRSNCODE EXCEPTRSNDESC  \\\n0                   5TH AVE NE AND NE 103RD ST                         NaN   \n1   AURORA BR BETWEEN RAYE ST AND BRIDGE WAY N           NaN           NaN   \n2  4TH AVE BETWEEN SENECA ST AND UNIVERSITY ST           NaN           NaN   \n3     2ND AVE BETWEEN MARION ST AND MADISON ST                         NaN   \n4              SWIFT AVE S AND SWIFT AV OFF RP           NaN           NaN   \n\n   SEVERITYCODE.1                    SEVERITYDESC COLLISIONTYPE  PERSONCOUNT  \\\n0               2                Injury Collision        Angles            2   \n1               1  Property Damage Only Collision     Sideswipe            2   \n2               1  Property Damage Only Collision    Parked Car            4   \n3               1  Property Damage Only Collision         Other            3   \n4               2                Injury Collision        Angles            2   \n\n   PEDCOUNT  PEDCYLCOUNT  VEHCOUNT                 INCDATE  \\\n0         0            0         2  2013/03/27 00:00:00+00   \n1         0            0         2  2006/12/20 00:00:00+00   \n2         0            0         3  2004/11/18 00:00:00+00   \n3         0            0         3  2013/03/29 00:00:00+00   \n4         0            0         2  2004/01/28 00:00:00+00   \n\n                  INCDTTM                             JUNCTIONTYPE  \\\n0    3/27/2013 2:54:00 PM   At Intersection (intersection related)   \n1   12/20/2006 6:55:00 PM  Mid-Block (not related to intersection)   \n2  11/18/2004 10:20:00 AM  Mid-Block (not related to intersection)   \n3    3/29/2013 9:26:00 AM  Mid-Block (not related to intersection)   \n4    1/28/2004 8:04:00 AM   At Intersection (intersection related)   \n\n   SDOT_COLCODE                                       SDOT_COLDESC  \\\n0            11  MOTOR VEHICLE STRUCK MOTOR VEHICLE, FRONT END ...   \n1            16  MOTOR VEHICLE STRUCK MOTOR VEHICLE, LEFT SIDE ...   \n2            14       MOTOR VEHICLE STRUCK MOTOR VEHICLE, REAR END   \n3            11  MOTOR VEHICLE STRUCK MOTOR VEHICLE, FRONT END ...   \n4            11  MOTOR VEHICLE STRUCK MOTOR VEHICLE, FRONT END ...   \n\n  INATTENTIONIND UNDERINFL   WEATHER ROADCOND                LIGHTCOND  \\\n0            NaN         N  Overcast      Wet                 Daylight   \n1            NaN         0   Raining      Wet  Dark - Street Lights On   \n2            NaN         0  Overcast      Dry                 Daylight   \n3            NaN         N     Clear      Dry                 Daylight   \n4            NaN         0   Raining      Wet                 Daylight   \n\n  PEDROWNOTGRNT  SDOTCOLNUM SPEEDING ST_COLCODE  \\\n0           NaN         NaN      NaN         10   \n1           NaN   6354039.0      NaN         11   \n2           NaN   4323031.0      NaN         32   \n3           NaN         NaN      NaN         23   \n4           NaN   4028032.0      NaN         10   \n\n                                          ST_COLDESC  SEGLANEKEY  \\\n0                                  Entering at angle           0   \n1  From same direction - both going straight - bo...           0   \n2                             One parked--one moving           0   \n3                   From same direction - all others           0   \n4                                  Entering at angle           0   \n\n   CROSSWALKKEY HITPARKEDCAR  \n0             0            N  \n1             0            N  \n2             0            N  \n3             0            N  \n4             0            N  "
                    },
                    "execution_count": 4,
                    "metadata": {},
                    "output_type": "execute_result"
                }
            ],
            "source": "cdf = pd.read_csv(body)\n\npd.set_option('display.max_columns', None)\npd.set_option('display.max_rows', None)\ncdf.head()"
        },
        {
            "cell_type": "code",
            "execution_count": 5,
            "metadata": {},
            "outputs": [
                {
                    "data": {
                        "text/plain": "(194673, 38)"
                    },
                    "execution_count": 5,
                    "metadata": {},
                    "output_type": "execute_result"
                }
            ],
            "source": "cdf.shape"
        },
        {
            "cell_type": "code",
            "execution_count": 6,
            "metadata": {},
            "outputs": [
                {
                    "data": {
                        "text/plain": "5012"
                    },
                    "execution_count": 6,
                    "metadata": {},
                    "output_type": "execute_result"
                }
            ],
            "source": "cdf[\"ROADCOND\"].isnull().sum()"
        },
        {
            "cell_type": "code",
            "execution_count": 7,
            "metadata": {},
            "outputs": [
                {
                    "data": {
                        "text/plain": "SEVERITYCODE\n1    136485\n2     58188\ndtype: int64"
                    },
                    "execution_count": 7,
                    "metadata": {},
                    "output_type": "execute_result"
                }
            ],
            "source": "cdf.groupby('SEVERITYCODE').size()"
        },
        {
            "cell_type": "code",
            "execution_count": 8,
            "metadata": {
                "scrolled": true
            },
            "outputs": [
                {
                    "data": {
                        "text/plain": "array(['SEVERITYCODE', 'X', 'Y', 'OBJECTID', 'INCKEY', 'COLDETKEY',\n       'REPORTNO', 'STATUS', 'ADDRTYPE', 'INTKEY', 'LOCATION',\n       'EXCEPTRSNCODE', 'EXCEPTRSNDESC', 'SEVERITYCODE.1', 'SEVERITYDESC',\n       'COLLISIONTYPE', 'PERSONCOUNT', 'PEDCOUNT', 'PEDCYLCOUNT',\n       'VEHCOUNT', 'INCDATE', 'INCDTTM', 'JUNCTIONTYPE', 'SDOT_COLCODE',\n       'SDOT_COLDESC', 'INATTENTIONIND', 'UNDERINFL', 'WEATHER',\n       'ROADCOND', 'LIGHTCOND', 'PEDROWNOTGRNT', 'SDOTCOLNUM', 'SPEEDING',\n       'ST_COLCODE', 'ST_COLDESC', 'SEGLANEKEY', 'CROSSWALKKEY',\n       'HITPARKEDCAR'], dtype=object)"
                    },
                    "execution_count": 8,
                    "metadata": {},
                    "output_type": "execute_result"
                }
            ],
            "source": "cdf.columns.values"
        },
        {
            "cell_type": "markdown",
            "metadata": {},
            "source": "### Create a subset of original database with features that seem to be relevant to predicting severity of collisions and verify data types:"
        },
        {
            "cell_type": "code",
            "execution_count": 9,
            "metadata": {},
            "outputs": [],
            "source": "cdf2 = cdf[['SEVERITYCODE', 'STATUS', 'ADDRTYPE', 'SEVERITYCODE.1', 'COLLISIONTYPE', 'PERSONCOUNT', 'PEDCOUNT', \\\n            'PEDCYLCOUNT', 'VEHCOUNT', 'INCDATE', 'INCDTTM', 'JUNCTIONTYPE', 'SDOT_COLCODE', 'INATTENTIONIND', \\\n            'UNDERINFL', 'WEATHER', 'ROADCOND', 'LIGHTCOND', 'PEDROWNOTGRNT', 'SPEEDING', 'ST_COLCODE', 'HITPARKEDCAR']]"
        },
        {
            "cell_type": "code",
            "execution_count": 10,
            "metadata": {},
            "outputs": [
                {
                    "data": {
                        "text/html": "<div>\n<style scoped>\n    .dataframe tbody tr th:only-of-type {\n        vertical-align: middle;\n    }\n\n    .dataframe tbody tr th {\n        vertical-align: top;\n    }\n\n    .dataframe thead th {\n        text-align: right;\n    }\n</style>\n<table border=\"1\" class=\"dataframe\">\n  <thead>\n    <tr style=\"text-align: right;\">\n      <th></th>\n      <th>SEVERITYCODE</th>\n      <th>STATUS</th>\n      <th>ADDRTYPE</th>\n      <th>SEVERITYCODE.1</th>\n      <th>COLLISIONTYPE</th>\n      <th>PERSONCOUNT</th>\n      <th>PEDCOUNT</th>\n      <th>PEDCYLCOUNT</th>\n      <th>VEHCOUNT</th>\n      <th>INCDATE</th>\n      <th>INCDTTM</th>\n      <th>JUNCTIONTYPE</th>\n      <th>SDOT_COLCODE</th>\n      <th>INATTENTIONIND</th>\n      <th>UNDERINFL</th>\n      <th>WEATHER</th>\n      <th>ROADCOND</th>\n      <th>LIGHTCOND</th>\n      <th>PEDROWNOTGRNT</th>\n      <th>SPEEDING</th>\n      <th>ST_COLCODE</th>\n      <th>HITPARKEDCAR</th>\n    </tr>\n  </thead>\n  <tbody>\n    <tr>\n      <th>0</th>\n      <td>2</td>\n      <td>Matched</td>\n      <td>Intersection</td>\n      <td>2</td>\n      <td>Angles</td>\n      <td>2</td>\n      <td>0</td>\n      <td>0</td>\n      <td>2</td>\n      <td>2013/03/27 00:00:00+00</td>\n      <td>3/27/2013 2:54:00 PM</td>\n      <td>At Intersection (intersection related)</td>\n      <td>11</td>\n      <td>NaN</td>\n      <td>N</td>\n      <td>Overcast</td>\n      <td>Wet</td>\n      <td>Daylight</td>\n      <td>NaN</td>\n      <td>NaN</td>\n      <td>10</td>\n      <td>N</td>\n    </tr>\n    <tr>\n      <th>1</th>\n      <td>1</td>\n      <td>Matched</td>\n      <td>Block</td>\n      <td>1</td>\n      <td>Sideswipe</td>\n      <td>2</td>\n      <td>0</td>\n      <td>0</td>\n      <td>2</td>\n      <td>2006/12/20 00:00:00+00</td>\n      <td>12/20/2006 6:55:00 PM</td>\n      <td>Mid-Block (not related to intersection)</td>\n      <td>16</td>\n      <td>NaN</td>\n      <td>0</td>\n      <td>Raining</td>\n      <td>Wet</td>\n      <td>Dark - Street Lights On</td>\n      <td>NaN</td>\n      <td>NaN</td>\n      <td>11</td>\n      <td>N</td>\n    </tr>\n    <tr>\n      <th>2</th>\n      <td>1</td>\n      <td>Matched</td>\n      <td>Block</td>\n      <td>1</td>\n      <td>Parked Car</td>\n      <td>4</td>\n      <td>0</td>\n      <td>0</td>\n      <td>3</td>\n      <td>2004/11/18 00:00:00+00</td>\n      <td>11/18/2004 10:20:00 AM</td>\n      <td>Mid-Block (not related to intersection)</td>\n      <td>14</td>\n      <td>NaN</td>\n      <td>0</td>\n      <td>Overcast</td>\n      <td>Dry</td>\n      <td>Daylight</td>\n      <td>NaN</td>\n      <td>NaN</td>\n      <td>32</td>\n      <td>N</td>\n    </tr>\n    <tr>\n      <th>3</th>\n      <td>1</td>\n      <td>Matched</td>\n      <td>Block</td>\n      <td>1</td>\n      <td>Other</td>\n      <td>3</td>\n      <td>0</td>\n      <td>0</td>\n      <td>3</td>\n      <td>2013/03/29 00:00:00+00</td>\n      <td>3/29/2013 9:26:00 AM</td>\n      <td>Mid-Block (not related to intersection)</td>\n      <td>11</td>\n      <td>NaN</td>\n      <td>N</td>\n      <td>Clear</td>\n      <td>Dry</td>\n      <td>Daylight</td>\n      <td>NaN</td>\n      <td>NaN</td>\n      <td>23</td>\n      <td>N</td>\n    </tr>\n    <tr>\n      <th>4</th>\n      <td>2</td>\n      <td>Matched</td>\n      <td>Intersection</td>\n      <td>2</td>\n      <td>Angles</td>\n      <td>2</td>\n      <td>0</td>\n      <td>0</td>\n      <td>2</td>\n      <td>2004/01/28 00:00:00+00</td>\n      <td>1/28/2004 8:04:00 AM</td>\n      <td>At Intersection (intersection related)</td>\n      <td>11</td>\n      <td>NaN</td>\n      <td>0</td>\n      <td>Raining</td>\n      <td>Wet</td>\n      <td>Daylight</td>\n      <td>NaN</td>\n      <td>NaN</td>\n      <td>10</td>\n      <td>N</td>\n    </tr>\n  </tbody>\n</table>\n</div>",
                        "text/plain": "   SEVERITYCODE   STATUS      ADDRTYPE  SEVERITYCODE.1 COLLISIONTYPE  \\\n0             2  Matched  Intersection               2        Angles   \n1             1  Matched         Block               1     Sideswipe   \n2             1  Matched         Block               1    Parked Car   \n3             1  Matched         Block               1         Other   \n4             2  Matched  Intersection               2        Angles   \n\n   PERSONCOUNT  PEDCOUNT  PEDCYLCOUNT  VEHCOUNT                 INCDATE  \\\n0            2         0            0         2  2013/03/27 00:00:00+00   \n1            2         0            0         2  2006/12/20 00:00:00+00   \n2            4         0            0         3  2004/11/18 00:00:00+00   \n3            3         0            0         3  2013/03/29 00:00:00+00   \n4            2         0            0         2  2004/01/28 00:00:00+00   \n\n                  INCDTTM                             JUNCTIONTYPE  \\\n0    3/27/2013 2:54:00 PM   At Intersection (intersection related)   \n1   12/20/2006 6:55:00 PM  Mid-Block (not related to intersection)   \n2  11/18/2004 10:20:00 AM  Mid-Block (not related to intersection)   \n3    3/29/2013 9:26:00 AM  Mid-Block (not related to intersection)   \n4    1/28/2004 8:04:00 AM   At Intersection (intersection related)   \n\n   SDOT_COLCODE INATTENTIONIND UNDERINFL   WEATHER ROADCOND  \\\n0            11            NaN         N  Overcast      Wet   \n1            16            NaN         0   Raining      Wet   \n2            14            NaN         0  Overcast      Dry   \n3            11            NaN         N     Clear      Dry   \n4            11            NaN         0   Raining      Wet   \n\n                 LIGHTCOND PEDROWNOTGRNT SPEEDING ST_COLCODE HITPARKEDCAR  \n0                 Daylight           NaN      NaN         10            N  \n1  Dark - Street Lights On           NaN      NaN         11            N  \n2                 Daylight           NaN      NaN         32            N  \n3                 Daylight           NaN      NaN         23            N  \n4                 Daylight           NaN      NaN         10            N  "
                    },
                    "execution_count": 10,
                    "metadata": {},
                    "output_type": "execute_result"
                }
            ],
            "source": "cdf2.head()"
        },
        {
            "cell_type": "code",
            "execution_count": 11,
            "metadata": {},
            "outputs": [
                {
                    "data": {
                        "text/plain": "SEVERITYCODE       int64\nSTATUS            object\nADDRTYPE          object\nSEVERITYCODE.1     int64\nCOLLISIONTYPE     object\nPERSONCOUNT        int64\nPEDCOUNT           int64\nPEDCYLCOUNT        int64\nVEHCOUNT           int64\nINCDATE           object\nINCDTTM           object\nJUNCTIONTYPE      object\nSDOT_COLCODE       int64\nINATTENTIONIND    object\nUNDERINFL         object\nWEATHER           object\nROADCOND          object\nLIGHTCOND         object\nPEDROWNOTGRNT     object\nSPEEDING          object\nST_COLCODE        object\nHITPARKEDCAR      object\ndtype: object"
                    },
                    "execution_count": 11,
                    "metadata": {},
                    "output_type": "execute_result"
                }
            ],
            "source": "cdf2.dtypes"
        },
        {
            "cell_type": "markdown",
            "metadata": {},
            "source": "### Delete unmatched records if they don't constitute a significant portion of the database:"
        },
        {
            "cell_type": "code",
            "execution_count": 12,
            "metadata": {},
            "outputs": [
                {
                    "data": {
                        "text/plain": "STATUS\nMatched      189786\nUnmatched      4887\ndtype: int64"
                    },
                    "execution_count": 12,
                    "metadata": {},
                    "output_type": "execute_result"
                }
            ],
            "source": "cdf2.groupby('STATUS').size()"
        },
        {
            "cell_type": "code",
            "execution_count": 13,
            "metadata": {},
            "outputs": [],
            "source": "cdf2 = cdf2[cdf2.STATUS != \"Unmatched\"]\ncdf2 = cdf2.drop('STATUS', 1)"
        },
        {
            "cell_type": "markdown",
            "metadata": {},
            "source": "### Delete duplicate dependent variabe, severity code, and transform values for classification:"
        },
        {
            "cell_type": "code",
            "execution_count": 14,
            "metadata": {},
            "outputs": [
                {
                    "data": {
                        "text/plain": "SEVERITYCODE.1\n1    132627\n2     57159\ndtype: int64"
                    },
                    "execution_count": 14,
                    "metadata": {},
                    "output_type": "execute_result"
                }
            ],
            "source": "cdf2.groupby('SEVERITYCODE.1').size()"
        },
        {
            "cell_type": "code",
            "execution_count": 15,
            "metadata": {},
            "outputs": [
                {
                    "data": {
                        "text/plain": "SEVERITYCODE\n1    132627\n2     57159\ndtype: int64"
                    },
                    "execution_count": 15,
                    "metadata": {},
                    "output_type": "execute_result"
                }
            ],
            "source": "cdf2.groupby('SEVERITYCODE').size()"
        },
        {
            "cell_type": "code",
            "execution_count": 16,
            "metadata": {},
            "outputs": [],
            "source": "cdf2 = cdf2.drop('SEVERITYCODE.1', 1)"
        },
        {
            "cell_type": "code",
            "execution_count": 17,
            "metadata": {},
            "outputs": [],
            "source": "cdf2['SEVERITYCODE'] = cdf2['SEVERITYCODE'].replace([1,2],[0,1])"
        },
        {
            "cell_type": "markdown",
            "metadata": {},
            "source": "### Transform time and date attributes to part of a day, weekend/weekday, and season attributes:"
        },
        {
            "cell_type": "code",
            "execution_count": 18,
            "metadata": {},
            "outputs": [],
            "source": "cdf2['INCDATE'] = pd.to_datetime(cdf2['INCDATE'])\ncdf2['INCDTTM'] = pd.to_datetime(cdf2['INCDTTM'])"
        },
        {
            "cell_type": "code",
            "execution_count": 19,
            "metadata": {},
            "outputs": [],
            "source": "cdf2['period'] = (cdf2['INCDTTM'].dt.hour % 24 + 4) // 4\ncdf2['period'].replace({1: 'Late Night',\n                      2: 'Early Morning',\n                      3: 'Morning',\n                      4: 'Afternoon',\n                      5: 'Evening',\n                      6: 'Night'}, inplace=True)"
        },
        {
            "cell_type": "code",
            "execution_count": 20,
            "metadata": {},
            "outputs": [],
            "source": "cdf2 = cdf2.drop('INCDTTM', 1)"
        },
        {
            "cell_type": "code",
            "execution_count": 21,
            "metadata": {},
            "outputs": [],
            "source": "cdf2['dayofweek'] = cdf2['INCDATE'].dt.dayofweek\ncdf2['weekend'] = cdf2['dayofweek'].apply(lambda x: 1 if (x>3)  else 0)"
        },
        {
            "cell_type": "code",
            "execution_count": 22,
            "metadata": {},
            "outputs": [],
            "source": "cdf2['monthofyear'] = cdf2['INCDATE'].dt.month\ncdf2['seasonofyear'] = (cdf2['monthofyear']%12 + 3)//3\n\ncdf2['winter'] = cdf2['seasonofyear'].apply(lambda x: 1 if (x==1)  else 0)\ncdf2['spring'] = cdf2['seasonofyear'].apply(lambda x: 1 if (x==2)  else 0)\ncdf2['summer'] = cdf2['seasonofyear'].apply(lambda x: 1 if (x==3)  else 0)\ncdf2['fall'] = cdf2['seasonofyear'].apply(lambda x: 1 if (x==4)  else 0)"
        },
        {
            "cell_type": "code",
            "execution_count": 23,
            "metadata": {},
            "outputs": [],
            "source": "cdf2 = cdf2.drop('dayofweek', 1)\n\ncdf2 = cdf2.drop('monthofyear', 1)\ncdf2 = cdf2.drop('seasonofyear', 1)\n\ncdf2 = cdf2.drop('INCDATE', 1)"
        },
        {
            "cell_type": "markdown",
            "metadata": {},
            "source": "### Update and clean dummy variables in the database:"
        },
        {
            "cell_type": "code",
            "execution_count": 24,
            "metadata": {},
            "outputs": [
                {
                    "data": {
                        "text/plain": "INATTENTIONIND\nY    29805\ndtype: int64"
                    },
                    "execution_count": 24,
                    "metadata": {},
                    "output_type": "execute_result"
                }
            ],
            "source": "cdf2.groupby('INATTENTIONIND').size()"
        },
        {
            "cell_type": "code",
            "execution_count": 25,
            "metadata": {},
            "outputs": [
                {
                    "data": {
                        "text/plain": "INATTENTIONIND\n0    159981\n1     29805\ndtype: int64"
                    },
                    "execution_count": 25,
                    "metadata": {},
                    "output_type": "execute_result"
                }
            ],
            "source": "cdf2['INATTENTIONIND'] = cdf2['INATTENTIONIND'].replace(np.nan, 0)\ncdf2['INATTENTIONIND'] = cdf2['INATTENTIONIND'].replace(\"Y\", 1)\ncdf2.groupby('INATTENTIONIND').size()"
        },
        {
            "cell_type": "code",
            "execution_count": 26,
            "metadata": {},
            "outputs": [
                {
                    "data": {
                        "text/plain": "UNDERINFL\n0     80391\n1      3995\nN    100274\nY      5126\ndtype: int64"
                    },
                    "execution_count": 26,
                    "metadata": {},
                    "output_type": "execute_result"
                }
            ],
            "source": "cdf2.groupby('UNDERINFL').size()"
        },
        {
            "cell_type": "code",
            "execution_count": 27,
            "metadata": {},
            "outputs": [
                {
                    "data": {
                        "text/plain": "UNDERINFL\n0    180665\n1      9121\ndtype: int64"
                    },
                    "execution_count": 27,
                    "metadata": {},
                    "output_type": "execute_result"
                }
            ],
            "source": "cdf2['UNDERINFL'] = cdf2['UNDERINFL'].replace(['0','N'],0)\ncdf2['UNDERINFL'] = cdf2['UNDERINFL'].replace(['1','Y'],1)\ncdf2.groupby('UNDERINFL').size()"
        },
        {
            "cell_type": "code",
            "execution_count": 28,
            "metadata": {},
            "outputs": [
                {
                    "data": {
                        "text/plain": "PEDROWNOTGRNT\nY    4667\ndtype: int64"
                    },
                    "execution_count": 28,
                    "metadata": {},
                    "output_type": "execute_result"
                }
            ],
            "source": "cdf2.groupby('PEDROWNOTGRNT').size()"
        },
        {
            "cell_type": "code",
            "execution_count": 29,
            "metadata": {},
            "outputs": [
                {
                    "data": {
                        "text/plain": "PEDROWNOTGRNT\n0    185119\n1      4667\ndtype: int64"
                    },
                    "execution_count": 29,
                    "metadata": {},
                    "output_type": "execute_result"
                }
            ],
            "source": "cdf2['PEDROWNOTGRNT'] = cdf2['PEDROWNOTGRNT'].replace(np.nan, 0)\ncdf2['PEDROWNOTGRNT'] = cdf2['PEDROWNOTGRNT'].replace(\"Y\", 1)\ncdf2.groupby('PEDROWNOTGRNT').size()"
        },
        {
            "cell_type": "code",
            "execution_count": 30,
            "metadata": {},
            "outputs": [
                {
                    "data": {
                        "text/plain": "SPEEDING\nY    9333\ndtype: int64"
                    },
                    "execution_count": 30,
                    "metadata": {},
                    "output_type": "execute_result"
                }
            ],
            "source": "cdf2.groupby('SPEEDING').size()"
        },
        {
            "cell_type": "code",
            "execution_count": 31,
            "metadata": {},
            "outputs": [
                {
                    "data": {
                        "text/plain": "SPEEDING\n0    180453\n1      9333\ndtype: int64"
                    },
                    "execution_count": 31,
                    "metadata": {},
                    "output_type": "execute_result"
                }
            ],
            "source": "cdf2['SPEEDING'] = cdf2['SPEEDING'].replace(np.nan, 0)\ncdf2['SPEEDING'] = cdf2['SPEEDING'].replace(\"Y\", 1)\ncdf2.groupby('SPEEDING').size()"
        },
        {
            "cell_type": "code",
            "execution_count": 32,
            "metadata": {},
            "outputs": [
                {
                    "data": {
                        "text/plain": "HITPARKEDCAR\nN    182868\nY      6918\ndtype: int64"
                    },
                    "execution_count": 32,
                    "metadata": {},
                    "output_type": "execute_result"
                }
            ],
            "source": "cdf2.groupby('HITPARKEDCAR').size()"
        },
        {
            "cell_type": "code",
            "execution_count": 33,
            "metadata": {},
            "outputs": [
                {
                    "data": {
                        "text/plain": "HITPARKEDCAR\n0    182868\n1      6918\ndtype: int64"
                    },
                    "execution_count": 33,
                    "metadata": {},
                    "output_type": "execute_result"
                }
            ],
            "source": "cdf2['HITPARKEDCAR'] = cdf2['HITPARKEDCAR'].replace(\"N\", 0)\ncdf2['HITPARKEDCAR'] = cdf2['HITPARKEDCAR'].replace(\"Y\", 1)\ncdf2.groupby('HITPARKEDCAR').size()"
        },
        {
            "cell_type": "code",
            "execution_count": 34,
            "metadata": {
                "scrolled": true
            },
            "outputs": [
                {
                    "data": {
                        "text/html": "<div>\n<style scoped>\n    .dataframe tbody tr th:only-of-type {\n        vertical-align: middle;\n    }\n\n    .dataframe tbody tr th {\n        vertical-align: top;\n    }\n\n    .dataframe thead th {\n        text-align: right;\n    }\n</style>\n<table border=\"1\" class=\"dataframe\">\n  <thead>\n    <tr style=\"text-align: right;\">\n      <th></th>\n      <th>SEVERITYCODE</th>\n      <th>ADDRTYPE</th>\n      <th>COLLISIONTYPE</th>\n      <th>PERSONCOUNT</th>\n      <th>PEDCOUNT</th>\n      <th>PEDCYLCOUNT</th>\n      <th>VEHCOUNT</th>\n      <th>JUNCTIONTYPE</th>\n      <th>SDOT_COLCODE</th>\n      <th>INATTENTIONIND</th>\n      <th>UNDERINFL</th>\n      <th>WEATHER</th>\n      <th>ROADCOND</th>\n      <th>LIGHTCOND</th>\n      <th>PEDROWNOTGRNT</th>\n      <th>SPEEDING</th>\n      <th>ST_COLCODE</th>\n      <th>HITPARKEDCAR</th>\n      <th>period</th>\n      <th>weekend</th>\n      <th>winter</th>\n      <th>spring</th>\n      <th>summer</th>\n      <th>fall</th>\n    </tr>\n  </thead>\n  <tbody>\n    <tr>\n      <th>0</th>\n      <td>1</td>\n      <td>Intersection</td>\n      <td>Angles</td>\n      <td>2</td>\n      <td>0</td>\n      <td>0</td>\n      <td>2</td>\n      <td>At Intersection (intersection related)</td>\n      <td>11</td>\n      <td>0</td>\n      <td>0</td>\n      <td>Overcast</td>\n      <td>Wet</td>\n      <td>Daylight</td>\n      <td>0</td>\n      <td>0</td>\n      <td>10</td>\n      <td>0</td>\n      <td>Afternoon</td>\n      <td>0</td>\n      <td>0</td>\n      <td>1</td>\n      <td>0</td>\n      <td>0</td>\n    </tr>\n    <tr>\n      <th>1</th>\n      <td>0</td>\n      <td>Block</td>\n      <td>Sideswipe</td>\n      <td>2</td>\n      <td>0</td>\n      <td>0</td>\n      <td>2</td>\n      <td>Mid-Block (not related to intersection)</td>\n      <td>16</td>\n      <td>0</td>\n      <td>0</td>\n      <td>Raining</td>\n      <td>Wet</td>\n      <td>Dark - Street Lights On</td>\n      <td>0</td>\n      <td>0</td>\n      <td>11</td>\n      <td>0</td>\n      <td>Evening</td>\n      <td>0</td>\n      <td>1</td>\n      <td>0</td>\n      <td>0</td>\n      <td>0</td>\n    </tr>\n    <tr>\n      <th>2</th>\n      <td>0</td>\n      <td>Block</td>\n      <td>Parked Car</td>\n      <td>4</td>\n      <td>0</td>\n      <td>0</td>\n      <td>3</td>\n      <td>Mid-Block (not related to intersection)</td>\n      <td>14</td>\n      <td>0</td>\n      <td>0</td>\n      <td>Overcast</td>\n      <td>Dry</td>\n      <td>Daylight</td>\n      <td>0</td>\n      <td>0</td>\n      <td>32</td>\n      <td>0</td>\n      <td>Morning</td>\n      <td>0</td>\n      <td>0</td>\n      <td>0</td>\n      <td>0</td>\n      <td>1</td>\n    </tr>\n    <tr>\n      <th>3</th>\n      <td>0</td>\n      <td>Block</td>\n      <td>Other</td>\n      <td>3</td>\n      <td>0</td>\n      <td>0</td>\n      <td>3</td>\n      <td>Mid-Block (not related to intersection)</td>\n      <td>11</td>\n      <td>0</td>\n      <td>0</td>\n      <td>Clear</td>\n      <td>Dry</td>\n      <td>Daylight</td>\n      <td>0</td>\n      <td>0</td>\n      <td>23</td>\n      <td>0</td>\n      <td>Morning</td>\n      <td>1</td>\n      <td>0</td>\n      <td>1</td>\n      <td>0</td>\n      <td>0</td>\n    </tr>\n    <tr>\n      <th>4</th>\n      <td>1</td>\n      <td>Intersection</td>\n      <td>Angles</td>\n      <td>2</td>\n      <td>0</td>\n      <td>0</td>\n      <td>2</td>\n      <td>At Intersection (intersection related)</td>\n      <td>11</td>\n      <td>0</td>\n      <td>0</td>\n      <td>Raining</td>\n      <td>Wet</td>\n      <td>Daylight</td>\n      <td>0</td>\n      <td>0</td>\n      <td>10</td>\n      <td>0</td>\n      <td>Morning</td>\n      <td>0</td>\n      <td>1</td>\n      <td>0</td>\n      <td>0</td>\n      <td>0</td>\n    </tr>\n  </tbody>\n</table>\n</div>",
                        "text/plain": "   SEVERITYCODE      ADDRTYPE COLLISIONTYPE  PERSONCOUNT  PEDCOUNT  \\\n0             1  Intersection        Angles            2         0   \n1             0         Block     Sideswipe            2         0   \n2             0         Block    Parked Car            4         0   \n3             0         Block         Other            3         0   \n4             1  Intersection        Angles            2         0   \n\n   PEDCYLCOUNT  VEHCOUNT                             JUNCTIONTYPE  \\\n0            0         2   At Intersection (intersection related)   \n1            0         2  Mid-Block (not related to intersection)   \n2            0         3  Mid-Block (not related to intersection)   \n3            0         3  Mid-Block (not related to intersection)   \n4            0         2   At Intersection (intersection related)   \n\n   SDOT_COLCODE  INATTENTIONIND  UNDERINFL   WEATHER ROADCOND  \\\n0            11               0          0  Overcast      Wet   \n1            16               0          0   Raining      Wet   \n2            14               0          0  Overcast      Dry   \n3            11               0          0     Clear      Dry   \n4            11               0          0   Raining      Wet   \n\n                 LIGHTCOND  PEDROWNOTGRNT  SPEEDING ST_COLCODE  HITPARKEDCAR  \\\n0                 Daylight              0         0         10             0   \n1  Dark - Street Lights On              0         0         11             0   \n2                 Daylight              0         0         32             0   \n3                 Daylight              0         0         23             0   \n4                 Daylight              0         0         10             0   \n\n      period  weekend  winter  spring  summer  fall  \n0  Afternoon        0       0       1       0     0  \n1    Evening        0       1       0       0     0  \n2    Morning        0       0       0       0     1  \n3    Morning        1       0       1       0     0  \n4    Morning        0       1       0       0     0  "
                    },
                    "execution_count": 34,
                    "metadata": {},
                    "output_type": "execute_result"
                }
            ],
            "source": "cdf2.head()"
        },
        {
            "cell_type": "markdown",
            "metadata": {},
            "source": "### Evaluate potential impact of selected categorical attributes on severity of collisions before transforming them into dummy variables:"
        },
        {
            "cell_type": "code",
            "execution_count": 35,
            "metadata": {},
            "outputs": [
                {
                    "data": {
                        "text/plain": "ADDRTYPE\nAlley              747\nBlock           123663\nIntersection     63559\ndtype: int64"
                    },
                    "execution_count": 35,
                    "metadata": {},
                    "output_type": "execute_result"
                }
            ],
            "source": "cdf2.groupby('ADDRTYPE').size()"
        },
        {
            "cell_type": "code",
            "execution_count": 36,
            "metadata": {},
            "outputs": [
                {
                    "data": {
                        "text/plain": "ADDRTYPE      SEVERITYCODE\nAlley         0               0.891566\n              1               0.108434\nBlock         0               0.761473\n              1               0.238527\nIntersection  0               0.568731\n              1               0.431269\nName: SEVERITYCODE, dtype: float64"
                    },
                    "execution_count": 36,
                    "metadata": {},
                    "output_type": "execute_result"
                }
            ],
            "source": "cdf2.groupby(['ADDRTYPE'])['SEVERITYCODE'].value_counts(normalize=True)"
        },
        {
            "cell_type": "code",
            "execution_count": 37,
            "metadata": {},
            "outputs": [
                {
                    "data": {
                        "text/plain": "SEVERITYCODE  ADDRTYPE    \n0             Block           0.718934\n              Intersection    0.275981\n              Alley           0.005085\n1             Block           0.517591\n              Intersection    0.480988\n              Alley           0.001421\nName: ADDRTYPE, dtype: float64"
                    },
                    "execution_count": 37,
                    "metadata": {},
                    "output_type": "execute_result"
                }
            ],
            "source": "cdf2.groupby(['SEVERITYCODE'])['ADDRTYPE'].value_counts(normalize=True)"
        },
        {
            "cell_type": "code",
            "execution_count": 38,
            "metadata": {},
            "outputs": [
                {
                    "data": {
                        "text/plain": "COLLISIONTYPE\nAngles        34674\nCycles         5415\nHead On        2024\nLeft Turn     13703\nOther         23703\nParked Car    47986\nPedestrian     6607\nRear Ended    34089\nRight Turn     2956\nSideswipe     18608\ndtype: int64"
                    },
                    "execution_count": 38,
                    "metadata": {},
                    "output_type": "execute_result"
                }
            ],
            "source": "cdf2.groupby('COLLISIONTYPE').size()"
        },
        {
            "cell_type": "code",
            "execution_count": 39,
            "metadata": {},
            "outputs": [
                {
                    "data": {
                        "text/plain": "COLLISIONTYPE  SEVERITYCODE\nAngles         0               0.607083\n               1               0.392917\nCycles         1               0.876085\n               0               0.123915\nHead On        0               0.569170\n               1               0.430830\nLeft Turn      0               0.605123\n               1               0.394877\nOther          0               0.742142\n               1               0.257858\nParked Car     0               0.944525\n               1               0.055475\nPedestrian     1               0.898290\n               0               0.101710\nRear Ended     0               0.569627\n               1               0.430373\nRight Turn     0               0.793978\n               1               0.206022\nSideswipe      0               0.865327\n               1               0.134673\nName: SEVERITYCODE, dtype: float64"
                    },
                    "execution_count": 39,
                    "metadata": {},
                    "output_type": "execute_result"
                }
            ],
            "source": "cdf2.groupby(['COLLISIONTYPE'])['SEVERITYCODE'].value_counts(normalize=True)"
        },
        {
            "cell_type": "code",
            "execution_count": 40,
            "metadata": {},
            "outputs": [
                {
                    "data": {
                        "text/plain": "SEVERITYCODE  COLLISIONTYPE\n0             Parked Car       0.341761\n              Angles           0.158725\n              Rear Ended       0.146419\n              Other            0.132643\n              Sideswipe        0.121415\n              Left Turn        0.062525\n              Right Turn       0.017697\n              Head On          0.008687\n              Pedestrian       0.005067\n              Cycles           0.005060\n1             Rear Ended       0.256728\n              Angles           0.238407\n              Other            0.106954\n              Pedestrian       0.103857\n              Left Turn        0.094687\n              Cycles           0.083015\n              Parked Car       0.046582\n              Sideswipe        0.043853\n              Head On          0.015259\n              Right Turn       0.010657\nName: COLLISIONTYPE, dtype: float64"
                    },
                    "execution_count": 40,
                    "metadata": {},
                    "output_type": "execute_result"
                }
            ],
            "source": "cdf2.groupby(['SEVERITYCODE'])['COLLISIONTYPE'].value_counts(normalize=True)"
        },
        {
            "cell_type": "code",
            "execution_count": 41,
            "metadata": {},
            "outputs": [
                {
                    "data": {
                        "text/plain": "JUNCTIONTYPE\nAt Intersection (but not related to intersection)     2060\nAt Intersection (intersection related)               61334\nDriveway Junction                                    10538\nMid-Block (but intersection related)                 22388\nMid-Block (not related to intersection)              87119\nRamp Junction                                          162\nUnknown                                                  7\ndtype: int64"
                    },
                    "execution_count": 41,
                    "metadata": {},
                    "output_type": "execute_result"
                }
            ],
            "source": "cdf2.groupby('JUNCTIONTYPE').size()"
        },
        {
            "cell_type": "code",
            "execution_count": 42,
            "metadata": {},
            "outputs": [
                {
                    "data": {
                        "text/plain": "JUNCTIONTYPE                                       SEVERITYCODE\nAt Intersection (but not related to intersection)  0               0.700971\n                                                   1               0.299029\nAt Intersection (intersection related)             0               0.563505\n                                                   1               0.436495\nDriveway Junction                                  0               0.696242\n                                                   1               0.303758\nMid-Block (but intersection related)               0               0.678176\n                                                   1               0.321824\nMid-Block (not related to intersection)            0               0.782757\n                                                   1               0.217243\nRamp Junction                                      0               0.679012\n                                                   1               0.320988\nUnknown                                            0               0.857143\n                                                   1               0.142857\nName: SEVERITYCODE, dtype: float64"
                    },
                    "execution_count": 42,
                    "metadata": {},
                    "output_type": "execute_result"
                }
            ],
            "source": "cdf2.groupby(['JUNCTIONTYPE'])['SEVERITYCODE'].value_counts(normalize=True)"
        },
        {
            "cell_type": "code",
            "execution_count": 43,
            "metadata": {},
            "outputs": [
                {
                    "data": {
                        "text/plain": "SEVERITYCODE  JUNCTIONTYPE                                     \n0             Mid-Block (not related to intersection)              0.537651\n              At Intersection (intersection related)               0.272496\n              Mid-Block (but intersection related)                 0.119707\n              Driveway Junction                                    0.057847\n              At Intersection (but not related to intersection)    0.011385\n              Ramp Junction                                        0.000867\n              Unknown                                              0.000047\n1             At Intersection (intersection related)               0.471562\n              Mid-Block (not related to intersection)              0.333363\n              Mid-Block (but intersection related)                 0.126909\n              Driveway Junction                                    0.056382\n              At Intersection (but not related to intersection)    0.010850\n              Ramp Junction                                        0.000916\n              Unknown                                              0.000018\nName: JUNCTIONTYPE, dtype: float64"
                    },
                    "execution_count": 43,
                    "metadata": {},
                    "output_type": "execute_result"
                }
            ],
            "source": "cdf2.groupby(['SEVERITYCODE'])['JUNCTIONTYPE'].value_counts(normalize=True)"
        },
        {
            "cell_type": "code",
            "execution_count": 44,
            "metadata": {},
            "outputs": [
                {
                    "data": {
                        "text/plain": "WEATHER\nBlowing Sand/Dirt               56\nClear                       111134\nFog/Smog/Smoke                 569\nOther                          832\nOvercast                     27713\nPartly Cloudy                    5\nRaining                      33144\nSevere Crosswind                25\nSleet/Hail/Freezing Rain       113\nSnowing                        907\nUnknown                      15091\ndtype: int64"
                    },
                    "execution_count": 44,
                    "metadata": {},
                    "output_type": "execute_result"
                }
            ],
            "source": "cdf2.groupby('WEATHER').size()"
        },
        {
            "cell_type": "code",
            "execution_count": 45,
            "metadata": {},
            "outputs": [
                {
                    "data": {
                        "text/plain": "WEATHER                   SEVERITYCODE\nBlowing Sand/Dirt         0               0.732143\n                          1               0.267857\nClear                     0               0.677506\n                          1               0.322494\nFog/Smog/Smoke            0               0.671353\n                          1               0.328647\nOther                     0               0.860577\n                          1               0.139423\nOvercast                  0               0.684444\n                          1               0.315556\nPartly Cloudy             1               0.600000\n                          0               0.400000\nRaining                   0               0.662805\n                          1               0.337195\nSevere Crosswind          0               0.720000\n                          1               0.280000\nSleet/Hail/Freezing Rain  0               0.752212\n                          1               0.247788\nSnowing                   0               0.811466\n                          1               0.188534\nUnknown                   0               0.945928\n                          1               0.054072\nName: SEVERITYCODE, dtype: float64"
                    },
                    "execution_count": 45,
                    "metadata": {},
                    "output_type": "execute_result"
                }
            ],
            "source": "cdf2.groupby(['WEATHER'])['SEVERITYCODE'].value_counts(normalize=True)"
        },
        {
            "cell_type": "code",
            "execution_count": 46,
            "metadata": {},
            "outputs": [
                {
                    "data": {
                        "text/plain": "SEVERITYCODE  WEATHER                 \n0             Clear                       0.568321\n              Raining                     0.165815\n              Overcast                    0.143171\n              Unknown                     0.107748\n              Snowing                     0.005555\n              Other                       0.005404\n              Fog/Smog/Smoke              0.002883\n              Sleet/Hail/Freezing Rain    0.000642\n              Blowing Sand/Dirt           0.000309\n              Severe Crosswind            0.000136\n              Partly Cloudy               0.000015\n1             Clear                       0.627627\n              Raining                     0.195713\n              Overcast                    0.153142\n              Unknown                     0.014290\n              Fog/Smog/Smoke              0.003275\n              Snowing                     0.002995\n              Other                       0.002031\n              Sleet/Hail/Freezing Rain    0.000490\n              Blowing Sand/Dirt           0.000263\n              Severe Crosswind            0.000123\n              Partly Cloudy               0.000053\nName: WEATHER, dtype: float64"
                    },
                    "execution_count": 46,
                    "metadata": {},
                    "output_type": "execute_result"
                }
            ],
            "source": "cdf2.groupby(['SEVERITYCODE'])['WEATHER'].value_counts(normalize=True)"
        },
        {
            "cell_type": "code",
            "execution_count": 47,
            "metadata": {},
            "outputs": [
                {
                    "data": {
                        "text/plain": "ROADCOND\nDry               124508\nIce                 1209\nOil                   64\nOther                132\nSand/Mud/Dirt         75\nSnow/Slush          1004\nStanding Water       115\nUnknown            15078\nWet                47473\ndtype: int64"
                    },
                    "execution_count": 47,
                    "metadata": {},
                    "output_type": "execute_result"
                }
            ],
            "source": "cdf2.groupby('ROADCOND').size()"
        },
        {
            "cell_type": "code",
            "execution_count": 48,
            "metadata": {},
            "outputs": [
                {
                    "data": {
                        "text/plain": "ROADCOND        SEVERITYCODE\nDry             0               0.678221\n                1               0.321779\nIce             0               0.774194\n                1               0.225806\nOil             0               0.625000\n                1               0.375000\nOther           0               0.674242\n                1               0.325758\nSand/Mud/Dirt   0               0.693333\n                1               0.306667\nSnow/Slush      0               0.833665\n                1               0.166335\nStanding Water  0               0.739130\n                1               0.260870\nUnknown         0               0.950325\n                1               0.049675\nWet             0               0.668127\n                1               0.331873\nName: SEVERITYCODE, dtype: float64"
                    },
                    "execution_count": 48,
                    "metadata": {},
                    "output_type": "execute_result"
                }
            ],
            "source": "cdf2.groupby(['ROADCOND'])['SEVERITYCODE'].value_counts(normalize=True)"
        },
        {
            "cell_type": "code",
            "execution_count": 49,
            "metadata": {},
            "outputs": [
                {
                    "data": {
                        "text/plain": "SEVERITYCODE  ROADCOND      \n0             Dry               0.637169\n              Wet               0.239327\n              Unknown           0.108119\n              Ice               0.007063\n              Snow/Slush        0.006316\n              Other             0.000672\n              Standing Water    0.000641\n              Sand/Mud/Dirt     0.000392\n              Oil               0.000302\n1             Dry               0.701302\n              Wet               0.275784\n              Unknown           0.013111\n              Ice               0.004779\n              Snow/Slush        0.002923\n              Other             0.000753\n              Standing Water    0.000525\n              Oil               0.000420\n              Sand/Mud/Dirt     0.000403\nName: ROADCOND, dtype: float64"
                    },
                    "execution_count": 49,
                    "metadata": {},
                    "output_type": "execute_result"
                }
            ],
            "source": "cdf2.groupby(['SEVERITYCODE'])['ROADCOND'].value_counts(normalize=True)"
        },
        {
            "cell_type": "code",
            "execution_count": 50,
            "metadata": {},
            "outputs": [
                {
                    "data": {
                        "text/plain": "LIGHTCOND\nDark - No Street Lights       1537\nDark - Street Lights Off      1199\nDark - Street Lights On      48506\nDark - Unknown Lighting         11\nDawn                          2502\nDaylight                    116135\nDusk                          5902\nOther                          235\nUnknown                      13473\ndtype: int64"
                    },
                    "execution_count": 50,
                    "metadata": {},
                    "output_type": "execute_result"
                }
            ],
            "source": "cdf2.groupby('LIGHTCOND').size()"
        },
        {
            "cell_type": "code",
            "execution_count": 51,
            "metadata": {},
            "outputs": [
                {
                    "data": {
                        "text/plain": "LIGHTCOND                 SEVERITYCODE\nDark - No Street Lights   0               0.782694\n                          1               0.217306\nDark - Street Lights Off  0               0.736447\n                          1               0.263553\nDark - Street Lights On   0               0.701583\n                          1               0.298417\nDark - Unknown Lighting   0               0.636364\n                          1               0.363636\nDawn                      0               0.670663\n                          1               0.329337\nDaylight                  0               0.668110\n                          1               0.331890\nDusk                      0               0.670620\n                          1               0.329380\nOther                     0               0.778723\n                          1               0.221277\nUnknown                   0               0.955095\n                          1               0.044905\nName: SEVERITYCODE, dtype: float64"
                    },
                    "execution_count": 51,
                    "metadata": {},
                    "output_type": "execute_result"
                }
            ],
            "source": "cdf2.groupby(['LIGHTCOND'])['SEVERITYCODE'].value_counts(normalize=True)"
        },
        {
            "cell_type": "code",
            "execution_count": 52,
            "metadata": {
                "scrolled": true
            },
            "outputs": [
                {
                    "data": {
                        "text/plain": "SEVERITYCODE  LIGHTCOND               \n0             Daylight                    0.586026\n              Dark - Street Lights On     0.257028\n              Unknown                     0.097189\n              Dusk                        0.029894\n              Dawn                        0.012674\n              Dark - No Street Lights     0.009086\n              Dark - Street Lights Off    0.006669\n              Other                       0.001382\n              Dark - Unknown Lighting     0.000053\n1             Daylight                    0.675050\n              Dark - Street Lights On     0.253512\n              Dusk                        0.034047\n              Dawn                        0.014431\n              Unknown                     0.010596\n              Dark - No Street Lights     0.005850\n              Dark - Street Lights Off    0.005534\n              Other                       0.000911\n              Dark - Unknown Lighting     0.000070\nName: LIGHTCOND, dtype: float64"
                    },
                    "execution_count": 52,
                    "metadata": {},
                    "output_type": "execute_result"
                }
            ],
            "source": "cdf2.groupby(['SEVERITYCODE'])['LIGHTCOND'].value_counts(normalize=True)"
        },
        {
            "cell_type": "markdown",
            "metadata": {},
            "source": "### Evaluate and handle missing values:"
        },
        {
            "cell_type": "code",
            "execution_count": 53,
            "metadata": {},
            "outputs": [
                {
                    "data": {
                        "text/plain": "SEVERITYCODE         0\nADDRTYPE          1817\nCOLLISIONTYPE       21\nPERSONCOUNT          0\nPEDCOUNT             0\nPEDCYLCOUNT          0\nVEHCOUNT             0\nJUNCTIONTYPE      6178\nSDOT_COLCODE         0\nINATTENTIONIND       0\nUNDERINFL            0\nWEATHER            197\nROADCOND           128\nLIGHTCOND          286\nPEDROWNOTGRNT        0\nSPEEDING             0\nST_COLCODE          18\nHITPARKEDCAR         0\nperiod               0\nweekend              0\nwinter               0\nspring               0\nsummer               0\nfall                 0\ndtype: int64"
                    },
                    "execution_count": 53,
                    "metadata": {},
                    "output_type": "execute_result"
                }
            ],
            "source": " cdf2.isnull().sum()"
        },
        {
            "cell_type": "markdown",
            "metadata": {},
            "source": "#### \"NOT ENOUGH INFORMATION / NOT APPLICABLE\" for SDOT_COLDESC attribute for records with missing JUNCTIONTYPE so those rows is better to be deleted instead of generate the missing values:"
        },
        {
            "cell_type": "code",
            "execution_count": 54,
            "metadata": {},
            "outputs": [
                {
                    "data": {
                        "text/html": "<div>\n<style scoped>\n    .dataframe tbody tr th:only-of-type {\n        vertical-align: middle;\n    }\n\n    .dataframe tbody tr th {\n        vertical-align: top;\n    }\n\n    .dataframe thead th {\n        text-align: right;\n    }\n</style>\n<table border=\"1\" class=\"dataframe\">\n  <thead>\n    <tr style=\"text-align: right;\">\n      <th></th>\n      <th>SEVERITYCODE</th>\n      <th>ADDRTYPE</th>\n      <th>COLLISIONTYPE</th>\n      <th>PERSONCOUNT</th>\n      <th>PEDCOUNT</th>\n      <th>PEDCYLCOUNT</th>\n      <th>VEHCOUNT</th>\n      <th>JUNCTIONTYPE</th>\n      <th>SDOT_COLCODE</th>\n      <th>INATTENTIONIND</th>\n      <th>UNDERINFL</th>\n      <th>WEATHER</th>\n      <th>ROADCOND</th>\n      <th>LIGHTCOND</th>\n      <th>PEDROWNOTGRNT</th>\n      <th>SPEEDING</th>\n      <th>ST_COLCODE</th>\n      <th>HITPARKEDCAR</th>\n      <th>period</th>\n      <th>weekend</th>\n      <th>winter</th>\n      <th>spring</th>\n      <th>summer</th>\n      <th>fall</th>\n    </tr>\n  </thead>\n  <tbody>\n    <tr>\n      <th>103</th>\n      <td>0</td>\n      <td>Block</td>\n      <td>Parked Car</td>\n      <td>2</td>\n      <td>0</td>\n      <td>0</td>\n      <td>2</td>\n      <td>NaN</td>\n      <td>0</td>\n      <td>0</td>\n      <td>0</td>\n      <td>Clear</td>\n      <td>Dry</td>\n      <td>Daylight</td>\n      <td>0</td>\n      <td>0</td>\n      <td>32</td>\n      <td>1</td>\n      <td>Evening</td>\n      <td>0</td>\n      <td>0</td>\n      <td>1</td>\n      <td>0</td>\n      <td>0</td>\n    </tr>\n    <tr>\n      <th>127</th>\n      <td>0</td>\n      <td>Block</td>\n      <td>Parked Car</td>\n      <td>2</td>\n      <td>0</td>\n      <td>0</td>\n      <td>2</td>\n      <td>NaN</td>\n      <td>0</td>\n      <td>0</td>\n      <td>0</td>\n      <td>Clear</td>\n      <td>Dry</td>\n      <td>Daylight</td>\n      <td>0</td>\n      <td>0</td>\n      <td>32</td>\n      <td>0</td>\n      <td>Morning</td>\n      <td>1</td>\n      <td>1</td>\n      <td>0</td>\n      <td>0</td>\n      <td>0</td>\n    </tr>\n    <tr>\n      <th>160</th>\n      <td>1</td>\n      <td>Block</td>\n      <td>Rear Ended</td>\n      <td>2</td>\n      <td>0</td>\n      <td>0</td>\n      <td>2</td>\n      <td>NaN</td>\n      <td>14</td>\n      <td>1</td>\n      <td>0</td>\n      <td>Overcast</td>\n      <td>Dry</td>\n      <td>Daylight</td>\n      <td>0</td>\n      <td>0</td>\n      <td>13</td>\n      <td>0</td>\n      <td>Early Morning</td>\n      <td>1</td>\n      <td>0</td>\n      <td>0</td>\n      <td>1</td>\n      <td>0</td>\n    </tr>\n    <tr>\n      <th>171</th>\n      <td>0</td>\n      <td>NaN</td>\n      <td>Parked Car</td>\n      <td>2</td>\n      <td>0</td>\n      <td>0</td>\n      <td>2</td>\n      <td>NaN</td>\n      <td>0</td>\n      <td>0</td>\n      <td>0</td>\n      <td>Clear</td>\n      <td>Dry</td>\n      <td>Daylight</td>\n      <td>0</td>\n      <td>0</td>\n      <td>32</td>\n      <td>0</td>\n      <td>Evening</td>\n      <td>1</td>\n      <td>0</td>\n      <td>0</td>\n      <td>1</td>\n      <td>0</td>\n    </tr>\n    <tr>\n      <th>261</th>\n      <td>0</td>\n      <td>Alley</td>\n      <td>Other</td>\n      <td>1</td>\n      <td>0</td>\n      <td>0</td>\n      <td>1</td>\n      <td>NaN</td>\n      <td>0</td>\n      <td>0</td>\n      <td>0</td>\n      <td>Unknown</td>\n      <td>Unknown</td>\n      <td>Unknown</td>\n      <td>0</td>\n      <td>0</td>\n      <td>50</td>\n      <td>0</td>\n      <td>Late Night</td>\n      <td>1</td>\n      <td>0</td>\n      <td>0</td>\n      <td>1</td>\n      <td>0</td>\n    </tr>\n  </tbody>\n</table>\n</div>",
                        "text/plain": "     SEVERITYCODE ADDRTYPE COLLISIONTYPE  PERSONCOUNT  PEDCOUNT  PEDCYLCOUNT  \\\n103             0    Block    Parked Car            2         0            0   \n127             0    Block    Parked Car            2         0            0   \n160             1    Block    Rear Ended            2         0            0   \n171             0      NaN    Parked Car            2         0            0   \n261             0    Alley         Other            1         0            0   \n\n     VEHCOUNT JUNCTIONTYPE  SDOT_COLCODE  INATTENTIONIND  UNDERINFL   WEATHER  \\\n103         2          NaN             0               0          0     Clear   \n127         2          NaN             0               0          0     Clear   \n160         2          NaN            14               1          0  Overcast   \n171         2          NaN             0               0          0     Clear   \n261         1          NaN             0               0          0   Unknown   \n\n    ROADCOND LIGHTCOND  PEDROWNOTGRNT  SPEEDING ST_COLCODE  HITPARKEDCAR  \\\n103      Dry  Daylight              0         0         32             1   \n127      Dry  Daylight              0         0         32             0   \n160      Dry  Daylight              0         0         13             0   \n171      Dry  Daylight              0         0         32             0   \n261  Unknown   Unknown              0         0         50             0   \n\n            period  weekend  winter  spring  summer  fall  \n103        Evening        0       0       1       0     0  \n127        Morning        1       1       0       0     0  \n160  Early Morning        1       0       0       1     0  \n171        Evening        1       0       0       1     0  \n261     Late Night        1       0       0       1     0  "
                    },
                    "execution_count": 54,
                    "metadata": {},
                    "output_type": "execute_result"
                }
            ],
            "source": "cdf2[cdf2['JUNCTIONTYPE'].isnull()].head()"
        },
        {
            "cell_type": "code",
            "execution_count": 55,
            "metadata": {},
            "outputs": [],
            "source": "cdf2 = cdf2.dropna(axis = 0, subset=['JUNCTIONTYPE'])"
        },
        {
            "cell_type": "markdown",
            "metadata": {},
            "source": "#### Delete rows with missing values for important attributes, COLLISIONTYPE and ST_COLCODE:"
        },
        {
            "cell_type": "code",
            "execution_count": 56,
            "metadata": {},
            "outputs": [],
            "source": "cdf2 = cdf2.dropna(axis = 0, subset=['COLLISIONTYPE'])\ncdf2 = cdf2.dropna(axis = 0, subset=['ST_COLCODE'])"
        },
        {
            "cell_type": "markdown",
            "metadata": {},
            "source": "#### Evaluate the importance of records with missing values for ADDRTYPE, WEATHER, ROADCOND, and LIGHTCOND and delete them if values for severity code (dependent variable) are evently distributed for such records:"
        },
        {
            "cell_type": "code",
            "execution_count": 57,
            "metadata": {},
            "outputs": [],
            "source": "cdf2[['ADDRTYPE', 'WEATHER', 'ROADCOND', 'LIGHTCOND']] = cdf2[['ADDRTYPE', 'WEATHER', 'ROADCOND', 'LIGHTCOND']].fillna(value='Null')"
        },
        {
            "cell_type": "code",
            "execution_count": 58,
            "metadata": {},
            "outputs": [
                {
                    "data": {
                        "text/html": "<div>\n<style scoped>\n    .dataframe tbody tr th:only-of-type {\n        vertical-align: middle;\n    }\n\n    .dataframe tbody tr th {\n        vertical-align: top;\n    }\n\n    .dataframe thead th {\n        text-align: right;\n    }\n</style>\n<table border=\"1\" class=\"dataframe\">\n  <thead>\n    <tr style=\"text-align: right;\">\n      <th></th>\n      <th>SEVERITYCODE</th>\n      <th>ADDRTYPE</th>\n      <th>COLLISIONTYPE</th>\n      <th>PERSONCOUNT</th>\n      <th>PEDCOUNT</th>\n      <th>PEDCYLCOUNT</th>\n      <th>VEHCOUNT</th>\n      <th>JUNCTIONTYPE</th>\n      <th>SDOT_COLCODE</th>\n      <th>INATTENTIONIND</th>\n      <th>UNDERINFL</th>\n      <th>WEATHER</th>\n      <th>ROADCOND</th>\n      <th>LIGHTCOND</th>\n      <th>PEDROWNOTGRNT</th>\n      <th>SPEEDING</th>\n      <th>ST_COLCODE</th>\n      <th>HITPARKEDCAR</th>\n      <th>period</th>\n      <th>weekend</th>\n      <th>winter</th>\n      <th>spring</th>\n      <th>summer</th>\n      <th>fall</th>\n    </tr>\n  </thead>\n  <tbody>\n    <tr>\n      <th>268</th>\n      <td>0</td>\n      <td>Null</td>\n      <td>Parked Car</td>\n      <td>3</td>\n      <td>0</td>\n      <td>0</td>\n      <td>3</td>\n      <td>Mid-Block (not related to intersection)</td>\n      <td>14</td>\n      <td>0</td>\n      <td>0</td>\n      <td>Clear</td>\n      <td>Dry</td>\n      <td>Dark - Street Lights On</td>\n      <td>0</td>\n      <td>0</td>\n      <td>32</td>\n      <td>0</td>\n      <td>Late Night</td>\n      <td>1</td>\n      <td>0</td>\n      <td>1</td>\n      <td>0</td>\n      <td>0</td>\n    </tr>\n    <tr>\n      <th>412</th>\n      <td>0</td>\n      <td>Null</td>\n      <td>Left Turn</td>\n      <td>2</td>\n      <td>0</td>\n      <td>0</td>\n      <td>2</td>\n      <td>Unknown</td>\n      <td>0</td>\n      <td>0</td>\n      <td>0</td>\n      <td>Clear</td>\n      <td>Dry</td>\n      <td>Daylight</td>\n      <td>0</td>\n      <td>0</td>\n      <td>28</td>\n      <td>0</td>\n      <td>Evening</td>\n      <td>1</td>\n      <td>0</td>\n      <td>0</td>\n      <td>1</td>\n      <td>0</td>\n    </tr>\n    <tr>\n      <th>4421</th>\n      <td>0</td>\n      <td>Null</td>\n      <td>Parked Car</td>\n      <td>2</td>\n      <td>0</td>\n      <td>0</td>\n      <td>2</td>\n      <td>Mid-Block (but intersection related)</td>\n      <td>13</td>\n      <td>0</td>\n      <td>0</td>\n      <td>Unknown</td>\n      <td>Unknown</td>\n      <td>Daylight</td>\n      <td>0</td>\n      <td>0</td>\n      <td>32</td>\n      <td>0</td>\n      <td>Evening</td>\n      <td>1</td>\n      <td>0</td>\n      <td>0</td>\n      <td>0</td>\n      <td>1</td>\n    </tr>\n    <tr>\n      <th>5145</th>\n      <td>0</td>\n      <td>Null</td>\n      <td>Parked Car</td>\n      <td>2</td>\n      <td>0</td>\n      <td>0</td>\n      <td>2</td>\n      <td>Mid-Block (not related to intersection)</td>\n      <td>0</td>\n      <td>0</td>\n      <td>0</td>\n      <td>Clear</td>\n      <td>Dry</td>\n      <td>Daylight</td>\n      <td>0</td>\n      <td>0</td>\n      <td>32</td>\n      <td>0</td>\n      <td>Evening</td>\n      <td>0</td>\n      <td>0</td>\n      <td>0</td>\n      <td>1</td>\n      <td>0</td>\n    </tr>\n    <tr>\n      <th>6079</th>\n      <td>0</td>\n      <td>Null</td>\n      <td>Sideswipe</td>\n      <td>2</td>\n      <td>0</td>\n      <td>0</td>\n      <td>2</td>\n      <td>Mid-Block (not related to intersection)</td>\n      <td>16</td>\n      <td>0</td>\n      <td>0</td>\n      <td>Clear</td>\n      <td>Dry</td>\n      <td>Daylight</td>\n      <td>0</td>\n      <td>0</td>\n      <td>26</td>\n      <td>0</td>\n      <td>Evening</td>\n      <td>0</td>\n      <td>0</td>\n      <td>0</td>\n      <td>1</td>\n      <td>0</td>\n    </tr>\n  </tbody>\n</table>\n</div>",
                        "text/plain": "      SEVERITYCODE ADDRTYPE COLLISIONTYPE  PERSONCOUNT  PEDCOUNT  PEDCYLCOUNT  \\\n268              0     Null    Parked Car            3         0            0   \n412              0     Null     Left Turn            2         0            0   \n4421             0     Null    Parked Car            2         0            0   \n5145             0     Null    Parked Car            2         0            0   \n6079             0     Null     Sideswipe            2         0            0   \n\n      VEHCOUNT                             JUNCTIONTYPE  SDOT_COLCODE  \\\n268          3  Mid-Block (not related to intersection)            14   \n412          2                                  Unknown             0   \n4421         2     Mid-Block (but intersection related)            13   \n5145         2  Mid-Block (not related to intersection)             0   \n6079         2  Mid-Block (not related to intersection)            16   \n\n      INATTENTIONIND  UNDERINFL  WEATHER ROADCOND                LIGHTCOND  \\\n268                0          0    Clear      Dry  Dark - Street Lights On   \n412                0          0    Clear      Dry                 Daylight   \n4421               0          0  Unknown  Unknown                 Daylight   \n5145               0          0    Clear      Dry                 Daylight   \n6079               0          0    Clear      Dry                 Daylight   \n\n      PEDROWNOTGRNT  SPEEDING ST_COLCODE  HITPARKEDCAR      period  weekend  \\\n268               0         0         32             0  Late Night        1   \n412               0         0         28             0     Evening        1   \n4421              0         0         32             0     Evening        1   \n5145              0         0         32             0     Evening        0   \n6079              0         0         26             0     Evening        0   \n\n      winter  spring  summer  fall  \n268        0       1       0     0  \n412        0       0       1     0  \n4421       0       0       0     1  \n5145       0       0       1     0  \n6079       0       0       1     0  "
                    },
                    "execution_count": 58,
                    "metadata": {},
                    "output_type": "execute_result"
                }
            ],
            "source": "cdf2[cdf2['ADDRTYPE'] == 'Null'].head()"
        },
        {
            "cell_type": "code",
            "execution_count": 59,
            "metadata": {},
            "outputs": [
                {
                    "data": {
                        "text/plain": "ADDRTYPE      SEVERITYCODE\nAlley         0               0.876596\n              1               0.123404\nBlock         0               0.755026\n              1               0.244974\nIntersection  0               0.568089\n              1               0.431911\nNull          0               0.886121\n              1               0.113879\nName: SEVERITYCODE, dtype: float64"
                    },
                    "execution_count": 59,
                    "metadata": {},
                    "output_type": "execute_result"
                }
            ],
            "source": "cdf2.groupby(['ADDRTYPE'])['SEVERITYCODE'].value_counts(normalize=True)"
        },
        {
            "cell_type": "code",
            "execution_count": 60,
            "metadata": {},
            "outputs": [
                {
                    "data": {
                        "text/plain": "SEVERITYCODE  ADDRTYPE    \n0             Block           0.712455\n              Intersection    0.283957\n              Null            0.001963\n              Alley           0.001624\n1             Block           0.516526\n              Intersection    0.482400\n              Null            0.000564\n              Alley           0.000511\nName: ADDRTYPE, dtype: float64"
                    },
                    "execution_count": 60,
                    "metadata": {},
                    "output_type": "execute_result"
                }
            ],
            "source": "cdf2.groupby(['SEVERITYCODE'])['ADDRTYPE'].value_counts(normalize=True)"
        },
        {
            "cell_type": "markdown",
            "metadata": {},
            "source": "##### Distribution of dependent variable for Null ADDRTYPE is very similar to those for Alley. Replacing Null with Alley for the dataset:"
        },
        {
            "cell_type": "code",
            "execution_count": 61,
            "metadata": {},
            "outputs": [],
            "source": "cdf2['ADDRTYPE'] = cdf2['ADDRTYPE'].replace(['Null'],'Alley')"
        },
        {
            "cell_type": "code",
            "execution_count": 62,
            "metadata": {},
            "outputs": [
                {
                    "data": {
                        "text/html": "<div>\n<style scoped>\n    .dataframe tbody tr th:only-of-type {\n        vertical-align: middle;\n    }\n\n    .dataframe tbody tr th {\n        vertical-align: top;\n    }\n\n    .dataframe thead th {\n        text-align: right;\n    }\n</style>\n<table border=\"1\" class=\"dataframe\">\n  <thead>\n    <tr style=\"text-align: right;\">\n      <th></th>\n      <th>SEVERITYCODE</th>\n      <th>ADDRTYPE</th>\n      <th>COLLISIONTYPE</th>\n      <th>PERSONCOUNT</th>\n      <th>PEDCOUNT</th>\n      <th>PEDCYLCOUNT</th>\n      <th>VEHCOUNT</th>\n      <th>JUNCTIONTYPE</th>\n      <th>SDOT_COLCODE</th>\n      <th>INATTENTIONIND</th>\n      <th>UNDERINFL</th>\n      <th>WEATHER</th>\n      <th>ROADCOND</th>\n      <th>LIGHTCOND</th>\n      <th>PEDROWNOTGRNT</th>\n      <th>SPEEDING</th>\n      <th>ST_COLCODE</th>\n      <th>HITPARKEDCAR</th>\n      <th>period</th>\n      <th>weekend</th>\n      <th>winter</th>\n      <th>spring</th>\n      <th>summer</th>\n      <th>fall</th>\n    </tr>\n  </thead>\n  <tbody>\n    <tr>\n      <th>486</th>\n      <td>0</td>\n      <td>Block</td>\n      <td>Parked Car</td>\n      <td>2</td>\n      <td>0</td>\n      <td>0</td>\n      <td>2</td>\n      <td>Driveway Junction</td>\n      <td>11</td>\n      <td>0</td>\n      <td>0</td>\n      <td>Null</td>\n      <td>Unknown</td>\n      <td>Unknown</td>\n      <td>0</td>\n      <td>0</td>\n      <td>32</td>\n      <td>1</td>\n      <td>Morning</td>\n      <td>0</td>\n      <td>0</td>\n      <td>1</td>\n      <td>0</td>\n      <td>0</td>\n    </tr>\n    <tr>\n      <th>490</th>\n      <td>0</td>\n      <td>Block</td>\n      <td>Parked Car</td>\n      <td>2</td>\n      <td>0</td>\n      <td>0</td>\n      <td>2</td>\n      <td>Mid-Block (not related to intersection)</td>\n      <td>11</td>\n      <td>0</td>\n      <td>0</td>\n      <td>Null</td>\n      <td>Null</td>\n      <td>Null</td>\n      <td>0</td>\n      <td>0</td>\n      <td>19</td>\n      <td>0</td>\n      <td>Morning</td>\n      <td>0</td>\n      <td>0</td>\n      <td>0</td>\n      <td>1</td>\n      <td>0</td>\n    </tr>\n    <tr>\n      <th>1673</th>\n      <td>1</td>\n      <td>Intersection</td>\n      <td>Pedestrian</td>\n      <td>2</td>\n      <td>1</td>\n      <td>0</td>\n      <td>1</td>\n      <td>At Intersection (intersection related)</td>\n      <td>24</td>\n      <td>0</td>\n      <td>0</td>\n      <td>Null</td>\n      <td>Null</td>\n      <td>Null</td>\n      <td>0</td>\n      <td>0</td>\n      <td>0</td>\n      <td>0</td>\n      <td>Evening</td>\n      <td>1</td>\n      <td>0</td>\n      <td>0</td>\n      <td>1</td>\n      <td>0</td>\n    </tr>\n    <tr>\n      <th>1922</th>\n      <td>0</td>\n      <td>Block</td>\n      <td>Parked Car</td>\n      <td>2</td>\n      <td>0</td>\n      <td>0</td>\n      <td>2</td>\n      <td>Mid-Block (not related to intersection)</td>\n      <td>12</td>\n      <td>1</td>\n      <td>0</td>\n      <td>Null</td>\n      <td>Dry</td>\n      <td>Daylight</td>\n      <td>0</td>\n      <td>0</td>\n      <td>32</td>\n      <td>0</td>\n      <td>Afternoon</td>\n      <td>1</td>\n      <td>0</td>\n      <td>0</td>\n      <td>1</td>\n      <td>0</td>\n    </tr>\n    <tr>\n      <th>2152</th>\n      <td>1</td>\n      <td>Block</td>\n      <td>Pedestrian</td>\n      <td>2</td>\n      <td>1</td>\n      <td>0</td>\n      <td>1</td>\n      <td>Mid-Block (not related to intersection)</td>\n      <td>24</td>\n      <td>0</td>\n      <td>0</td>\n      <td>Null</td>\n      <td>Null</td>\n      <td>Null</td>\n      <td>0</td>\n      <td>0</td>\n      <td>0</td>\n      <td>0</td>\n      <td>Late Night</td>\n      <td>1</td>\n      <td>0</td>\n      <td>1</td>\n      <td>0</td>\n      <td>0</td>\n    </tr>\n  </tbody>\n</table>\n</div>",
                        "text/plain": "      SEVERITYCODE      ADDRTYPE COLLISIONTYPE  PERSONCOUNT  PEDCOUNT  \\\n486              0         Block    Parked Car            2         0   \n490              0         Block    Parked Car            2         0   \n1673             1  Intersection    Pedestrian            2         1   \n1922             0         Block    Parked Car            2         0   \n2152             1         Block    Pedestrian            2         1   \n\n      PEDCYLCOUNT  VEHCOUNT                             JUNCTIONTYPE  \\\n486             0         2                        Driveway Junction   \n490             0         2  Mid-Block (not related to intersection)   \n1673            0         1   At Intersection (intersection related)   \n1922            0         2  Mid-Block (not related to intersection)   \n2152            0         1  Mid-Block (not related to intersection)   \n\n      SDOT_COLCODE  INATTENTIONIND  UNDERINFL WEATHER ROADCOND LIGHTCOND  \\\n486             11               0          0    Null  Unknown   Unknown   \n490             11               0          0    Null     Null      Null   \n1673            24               0          0    Null     Null      Null   \n1922            12               1          0    Null      Dry  Daylight   \n2152            24               0          0    Null     Null      Null   \n\n      PEDROWNOTGRNT  SPEEDING ST_COLCODE  HITPARKEDCAR      period  weekend  \\\n486               0         0         32             1     Morning        0   \n490               0         0         19             0     Morning        0   \n1673              0         0          0             0     Evening        1   \n1922              0         0         32             0   Afternoon        1   \n2152              0         0          0             0  Late Night        1   \n\n      winter  spring  summer  fall  \n486        0       1       0     0  \n490        0       0       1     0  \n1673       0       0       1     0  \n1922       0       0       1     0  \n2152       0       1       0     0  "
                    },
                    "execution_count": 62,
                    "metadata": {},
                    "output_type": "execute_result"
                }
            ],
            "source": "cdf2[cdf2['WEATHER'] == 'Null'].head()"
        },
        {
            "cell_type": "markdown",
            "metadata": {},
            "source": "##### It seems records with missing values for WEATHER are also missing values for ROADCOND and LIGHTCOND and deleting them could be practical but first further explore those records:"
        },
        {
            "cell_type": "code",
            "execution_count": 63,
            "metadata": {},
            "outputs": [
                {
                    "data": {
                        "text/plain": "WEATHER                   SEVERITYCODE\nBlowing Sand/Dirt         0               0.740000\n                          1               0.260000\nClear                     0               0.673944\n                          1               0.326056\nFog/Smog/Smoke            0               0.664875\n                          1               0.335125\nNull                      0               0.715847\n                          1               0.284153\nOther                     0               0.848806\n                          1               0.151194\nOvercast                  0               0.681062\n                          1               0.318938\nPartly Cloudy             1               0.600000\n                          0               0.400000\nRaining                   0               0.660683\n                          1               0.339317\nSevere Crosswind          0               0.720000\n                          1               0.280000\nSleet/Hail/Freezing Rain  0               0.758929\n                          1               0.241071\nSnowing                   0               0.809685\n                          1               0.190315\nUnknown                   0               0.934254\n                          1               0.065746\nName: SEVERITYCODE, dtype: float64"
                    },
                    "execution_count": 63,
                    "metadata": {},
                    "output_type": "execute_result"
                }
            ],
            "source": "cdf2.groupby(['WEATHER'])['SEVERITYCODE'].value_counts(normalize=True)"
        },
        {
            "cell_type": "code",
            "execution_count": 64,
            "metadata": {},
            "outputs": [
                {
                    "data": {
                        "text/plain": "SEVERITYCODE  WEATHER                 \n0             Clear                       0.580703\n              Raining                     0.170332\n              Overcast                    0.146228\n              Unknown                     0.086944\n              Snowing                     0.005669\n              Other                       0.005046\n              Fog/Smog/Smoke              0.002925\n              Null                        0.001033\n              Sleet/Hail/Freezing Rain    0.000670\n              Blowing Sand/Dirt           0.000292\n              Severe Crosswind            0.000142\n              Partly Cloudy               0.000016\n1             Clear                       0.627766\n              Raining                     0.195472\n              Overcast                    0.153013\n              Unknown                     0.013672\n              Fog/Smog/Smoke              0.003295\n              Snowing                     0.002977\n              Other                       0.002008\n              Null                        0.000916\n              Sleet/Hail/Freezing Rain    0.000476\n              Blowing Sand/Dirt           0.000229\n              Severe Crosswind            0.000123\n              Partly Cloudy               0.000053\nName: WEATHER, dtype: float64"
                    },
                    "execution_count": 64,
                    "metadata": {},
                    "output_type": "execute_result"
                }
            ],
            "source": "cdf2.groupby(['SEVERITYCODE'])['WEATHER'].value_counts(normalize=True)"
        },
        {
            "cell_type": "markdown",
            "metadata": {},
            "source": "##### The distribution of values for severity code is fairly even for Null values of WEATHER attribute. We can safely delete these records since this is most likely not a systematic signal biased toward a specific outcome:"
        },
        {
            "cell_type": "code",
            "execution_count": 65,
            "metadata": {},
            "outputs": [],
            "source": "cdf2 = cdf2[cdf2.WEATHER != \"Null\"]"
        },
        {
            "cell_type": "markdown",
            "metadata": {},
            "source": "##### Next, evaluate the distribution of values for severity code for records with Null values for ROADCOND attribute and similarly delete those records if severity code values are evenly distributed:"
        },
        {
            "cell_type": "code",
            "execution_count": 66,
            "metadata": {},
            "outputs": [
                {
                    "data": {
                        "text/plain": "ROADCOND        SEVERITYCODE\nDry             0               0.674892\n                1               0.325108\nIce             0               0.773345\n                1               0.226655\nNull            0               0.733333\n                1               0.266667\nOil             0               0.600000\n                1               0.400000\nOther           0               0.658537\n                1               0.341463\nSand/Mud/Dirt   0               0.671642\n                1               0.328358\nSnow/Slush      0               0.831976\n                1               0.168024\nStanding Water  0               0.724771\n                1               0.275229\nUnknown         0               0.939277\n                1               0.060723\nWet             0               0.665491\n                1               0.334509\nName: SEVERITYCODE, dtype: float64"
                    },
                    "execution_count": 66,
                    "metadata": {},
                    "output_type": "execute_result"
                }
            ],
            "source": "cdf2.groupby(['ROADCOND'])['SEVERITYCODE'].value_counts(normalize=True)"
        },
        {
            "cell_type": "code",
            "execution_count": 67,
            "metadata": {},
            "outputs": [
                {
                    "data": {
                        "text/plain": "SEVERITYCODE  ROADCOND      \n0             Dry               0.651928\n              Wet               0.245710\n              Unknown           0.086560\n              Ice               0.007190\n              Snow/Slush        0.006448\n              Other             0.000639\n              Standing Water    0.000624\n              Sand/Mud/Dirt     0.000355\n              Oil               0.000284\n              Null              0.000260\n1             Dry               0.701647\n              Wet               0.275940\n              Unknown           0.012503\n              Ice               0.004708\n              Snow/Slush        0.002910\n              Other             0.000741\n              Standing Water    0.000529\n              Oil               0.000423\n              Sand/Mud/Dirt     0.000388\n              Null              0.000212\nName: ROADCOND, dtype: float64"
                    },
                    "execution_count": 67,
                    "metadata": {},
                    "output_type": "execute_result"
                }
            ],
            "source": "cdf2.groupby(['SEVERITYCODE'])['ROADCOND'].value_counts(normalize=True)"
        },
        {
            "cell_type": "code",
            "execution_count": 68,
            "metadata": {},
            "outputs": [],
            "source": "cdf2 = cdf2[cdf2.ROADCOND != \"Null\"]"
        },
        {
            "cell_type": "markdown",
            "metadata": {},
            "source": "##### Lastly, evaluate the distribution of values for severity code for records with Null values for LIGHTCOND attribute and similarly delete those records if severity code values are evenly distributed:"
        },
        {
            "cell_type": "code",
            "execution_count": 69,
            "metadata": {},
            "outputs": [
                {
                    "data": {
                        "text/plain": "LIGHTCOND                 SEVERITYCODE\nDark - No Street Lights   0               0.775650\n                          1               0.224350\nDark - Street Lights Off  0               0.729706\n                          1               0.270294\nDark - Street Lights On   0               0.698250\n                          1               0.301750\nDark - Unknown Lighting   0               0.636364\n                          1               0.363636\nDawn                      0               0.666123\n                          1               0.333877\nDaylight                  0               0.664101\n                          1               0.335899\nDusk                      0               0.666782\n                          1               0.333218\nNull                      0               0.786096\n                          1               0.213904\nOther                     0               0.753555\n                          1               0.246445\nUnknown                   0               0.945418\n                          1               0.054582\nName: SEVERITYCODE, dtype: float64"
                    },
                    "execution_count": 69,
                    "metadata": {},
                    "output_type": "execute_result"
                }
            ],
            "source": "cdf2.groupby(['LIGHTCOND'])['SEVERITYCODE'].value_counts(normalize=True)"
        },
        {
            "cell_type": "code",
            "execution_count": 70,
            "metadata": {},
            "outputs": [
                {
                    "data": {
                        "text/plain": "SEVERITYCODE  LIGHTCOND               \n0             Daylight                    0.597474\n              Dark - Street Lights On     0.262338\n              Unknown                     0.078767\n              Dusk                        0.030427\n              Dawn                        0.012900\n              Dark - No Street Lights     0.008953\n              Dark - Street Lights Off    0.006671\n              Other                       0.001255\n              Null                        0.001161\n              Dark - Unknown Lighting     0.000055\n1             Daylight                    0.675145\n              Dark - Street Lights On     0.253281\n              Dusk                        0.033971\n              Dawn                        0.014445\n              Unknown                     0.010159\n              Dark - No Street Lights     0.005785\n              Dark - Street Lights Off    0.005521\n              Other                       0.000917\n              Null                        0.000706\n              Dark - Unknown Lighting     0.000071\nName: LIGHTCOND, dtype: float64"
                    },
                    "execution_count": 70,
                    "metadata": {},
                    "output_type": "execute_result"
                }
            ],
            "source": "cdf2.groupby(['SEVERITYCODE'])['LIGHTCOND'].value_counts(normalize=True)"
        },
        {
            "cell_type": "code",
            "execution_count": 71,
            "metadata": {},
            "outputs": [],
            "source": "cdf2 = cdf2[cdf2.LIGHTCOND != \"Null\"]"
        },
        {
            "cell_type": "code",
            "execution_count": 72,
            "metadata": {},
            "outputs": [
                {
                    "data": {
                        "text/plain": "SEVERITYCODE      0\nADDRTYPE          0\nCOLLISIONTYPE     0\nPERSONCOUNT       0\nPEDCOUNT          0\nPEDCYLCOUNT       0\nVEHCOUNT          0\nJUNCTIONTYPE      0\nSDOT_COLCODE      0\nINATTENTIONIND    0\nUNDERINFL         0\nWEATHER           0\nROADCOND          0\nLIGHTCOND         0\nPEDROWNOTGRNT     0\nSPEEDING          0\nST_COLCODE        0\nHITPARKEDCAR      0\nperiod            0\nweekend           0\nwinter            0\nspring            0\nsummer            0\nfall              0\ndtype: int64"
                    },
                    "execution_count": 72,
                    "metadata": {},
                    "output_type": "execute_result"
                }
            ],
            "source": "cdf2.isnull().sum()"
        },
        {
            "cell_type": "markdown",
            "metadata": {},
            "source": "##### Deleting rows with missing values for WEATHER also eliminates the rows with missing values for ROADCOND and LIGHTCOND."
        },
        {
            "cell_type": "code",
            "execution_count": 73,
            "metadata": {},
            "outputs": [
                {
                    "data": {
                        "text/html": "<div>\n<style scoped>\n    .dataframe tbody tr th:only-of-type {\n        vertical-align: middle;\n    }\n\n    .dataframe tbody tr th {\n        vertical-align: top;\n    }\n\n    .dataframe thead th {\n        text-align: right;\n    }\n</style>\n<table border=\"1\" class=\"dataframe\">\n  <thead>\n    <tr style=\"text-align: right;\">\n      <th></th>\n      <th>SEVERITYCODE</th>\n      <th>ADDRTYPE</th>\n      <th>COLLISIONTYPE</th>\n      <th>PERSONCOUNT</th>\n      <th>PEDCOUNT</th>\n      <th>PEDCYLCOUNT</th>\n      <th>VEHCOUNT</th>\n      <th>JUNCTIONTYPE</th>\n      <th>SDOT_COLCODE</th>\n      <th>INATTENTIONIND</th>\n      <th>UNDERINFL</th>\n      <th>WEATHER</th>\n      <th>ROADCOND</th>\n      <th>LIGHTCOND</th>\n      <th>PEDROWNOTGRNT</th>\n      <th>SPEEDING</th>\n      <th>ST_COLCODE</th>\n      <th>HITPARKEDCAR</th>\n      <th>period</th>\n      <th>weekend</th>\n      <th>winter</th>\n      <th>spring</th>\n      <th>summer</th>\n      <th>fall</th>\n    </tr>\n  </thead>\n  <tbody>\n    <tr>\n      <th>0</th>\n      <td>1</td>\n      <td>Intersection</td>\n      <td>Angles</td>\n      <td>2</td>\n      <td>0</td>\n      <td>0</td>\n      <td>2</td>\n      <td>At Intersection (intersection related)</td>\n      <td>11</td>\n      <td>0</td>\n      <td>0</td>\n      <td>Overcast</td>\n      <td>Wet</td>\n      <td>Daylight</td>\n      <td>0</td>\n      <td>0</td>\n      <td>10</td>\n      <td>0</td>\n      <td>Afternoon</td>\n      <td>0</td>\n      <td>0</td>\n      <td>1</td>\n      <td>0</td>\n      <td>0</td>\n    </tr>\n    <tr>\n      <th>1</th>\n      <td>0</td>\n      <td>Block</td>\n      <td>Sideswipe</td>\n      <td>2</td>\n      <td>0</td>\n      <td>0</td>\n      <td>2</td>\n      <td>Mid-Block (not related to intersection)</td>\n      <td>16</td>\n      <td>0</td>\n      <td>0</td>\n      <td>Raining</td>\n      <td>Wet</td>\n      <td>Dark - Street Lights On</td>\n      <td>0</td>\n      <td>0</td>\n      <td>11</td>\n      <td>0</td>\n      <td>Evening</td>\n      <td>0</td>\n      <td>1</td>\n      <td>0</td>\n      <td>0</td>\n      <td>0</td>\n    </tr>\n    <tr>\n      <th>2</th>\n      <td>0</td>\n      <td>Block</td>\n      <td>Parked Car</td>\n      <td>4</td>\n      <td>0</td>\n      <td>0</td>\n      <td>3</td>\n      <td>Mid-Block (not related to intersection)</td>\n      <td>14</td>\n      <td>0</td>\n      <td>0</td>\n      <td>Overcast</td>\n      <td>Dry</td>\n      <td>Daylight</td>\n      <td>0</td>\n      <td>0</td>\n      <td>32</td>\n      <td>0</td>\n      <td>Morning</td>\n      <td>0</td>\n      <td>0</td>\n      <td>0</td>\n      <td>0</td>\n      <td>1</td>\n    </tr>\n    <tr>\n      <th>3</th>\n      <td>0</td>\n      <td>Block</td>\n      <td>Other</td>\n      <td>3</td>\n      <td>0</td>\n      <td>0</td>\n      <td>3</td>\n      <td>Mid-Block (not related to intersection)</td>\n      <td>11</td>\n      <td>0</td>\n      <td>0</td>\n      <td>Clear</td>\n      <td>Dry</td>\n      <td>Daylight</td>\n      <td>0</td>\n      <td>0</td>\n      <td>23</td>\n      <td>0</td>\n      <td>Morning</td>\n      <td>1</td>\n      <td>0</td>\n      <td>1</td>\n      <td>0</td>\n      <td>0</td>\n    </tr>\n    <tr>\n      <th>4</th>\n      <td>1</td>\n      <td>Intersection</td>\n      <td>Angles</td>\n      <td>2</td>\n      <td>0</td>\n      <td>0</td>\n      <td>2</td>\n      <td>At Intersection (intersection related)</td>\n      <td>11</td>\n      <td>0</td>\n      <td>0</td>\n      <td>Raining</td>\n      <td>Wet</td>\n      <td>Daylight</td>\n      <td>0</td>\n      <td>0</td>\n      <td>10</td>\n      <td>0</td>\n      <td>Morning</td>\n      <td>0</td>\n      <td>1</td>\n      <td>0</td>\n      <td>0</td>\n      <td>0</td>\n    </tr>\n  </tbody>\n</table>\n</div>",
                        "text/plain": "   SEVERITYCODE      ADDRTYPE COLLISIONTYPE  PERSONCOUNT  PEDCOUNT  \\\n0             1  Intersection        Angles            2         0   \n1             0         Block     Sideswipe            2         0   \n2             0         Block    Parked Car            4         0   \n3             0         Block         Other            3         0   \n4             1  Intersection        Angles            2         0   \n\n   PEDCYLCOUNT  VEHCOUNT                             JUNCTIONTYPE  \\\n0            0         2   At Intersection (intersection related)   \n1            0         2  Mid-Block (not related to intersection)   \n2            0         3  Mid-Block (not related to intersection)   \n3            0         3  Mid-Block (not related to intersection)   \n4            0         2   At Intersection (intersection related)   \n\n   SDOT_COLCODE  INATTENTIONIND  UNDERINFL   WEATHER ROADCOND  \\\n0            11               0          0  Overcast      Wet   \n1            16               0          0   Raining      Wet   \n2            14               0          0  Overcast      Dry   \n3            11               0          0     Clear      Dry   \n4            11               0          0   Raining      Wet   \n\n                 LIGHTCOND  PEDROWNOTGRNT  SPEEDING ST_COLCODE  HITPARKEDCAR  \\\n0                 Daylight              0         0         10             0   \n1  Dark - Street Lights On              0         0         11             0   \n2                 Daylight              0         0         32             0   \n3                 Daylight              0         0         23             0   \n4                 Daylight              0         0         10             0   \n\n      period  weekend  winter  spring  summer  fall  \n0  Afternoon        0       0       1       0     0  \n1    Evening        0       1       0       0     0  \n2    Morning        0       0       0       0     1  \n3    Morning        1       0       1       0     0  \n4    Morning        0       1       0       0     0  "
                    },
                    "execution_count": 73,
                    "metadata": {},
                    "output_type": "execute_result"
                }
            ],
            "source": "cdf2.head()"
        },
        {
            "cell_type": "code",
            "execution_count": 74,
            "metadata": {},
            "outputs": [
                {
                    "data": {
                        "text/plain": "array(['SEVERITYCODE', 'ADDRTYPE', 'COLLISIONTYPE', 'PERSONCOUNT',\n       'PEDCOUNT', 'PEDCYLCOUNT', 'VEHCOUNT', 'JUNCTIONTYPE',\n       'SDOT_COLCODE', 'INATTENTIONIND', 'UNDERINFL', 'WEATHER',\n       'ROADCOND', 'LIGHTCOND', 'PEDROWNOTGRNT', 'SPEEDING', 'ST_COLCODE',\n       'HITPARKEDCAR', 'period', 'weekend', 'winter', 'spring', 'summer',\n       'fall'], dtype=object)"
                    },
                    "execution_count": 74,
                    "metadata": {},
                    "output_type": "execute_result"
                }
            ],
            "source": "cdf2.columns.values"
        },
        {
            "cell_type": "markdown",
            "metadata": {},
            "source": "### Address imbalanced dataset before separating independent variables from the dependent variable by downsampling majority class:"
        },
        {
            "cell_type": "code",
            "execution_count": 75,
            "metadata": {},
            "outputs": [
                {
                    "data": {
                        "text/plain": "SEVERITYCODE\n0    126518\n1     56656\ndtype: int64"
                    },
                    "execution_count": 75,
                    "metadata": {},
                    "output_type": "execute_result"
                }
            ],
            "source": "cdf2.groupby('SEVERITYCODE').size()"
        },
        {
            "cell_type": "code",
            "execution_count": 76,
            "metadata": {},
            "outputs": [],
            "source": "from sklearn.utils import resample\n\n# Separate majority and minority classes\ncdf_majority = cdf2[cdf2.SEVERITYCODE == 0]\ncdf_minority = cdf2[cdf2.SEVERITYCODE == 1]"
        },
        {
            "cell_type": "code",
            "execution_count": 77,
            "metadata": {},
            "outputs": [
                {
                    "data": {
                        "text/html": "<div>\n<style scoped>\n    .dataframe tbody tr th:only-of-type {\n        vertical-align: middle;\n    }\n\n    .dataframe tbody tr th {\n        vertical-align: top;\n    }\n\n    .dataframe thead th {\n        text-align: right;\n    }\n</style>\n<table border=\"1\" class=\"dataframe\">\n  <thead>\n    <tr style=\"text-align: right;\">\n      <th></th>\n      <th>SEVERITYCODE</th>\n      <th>ADDRTYPE</th>\n      <th>COLLISIONTYPE</th>\n      <th>PERSONCOUNT</th>\n      <th>PEDCOUNT</th>\n      <th>PEDCYLCOUNT</th>\n      <th>VEHCOUNT</th>\n      <th>JUNCTIONTYPE</th>\n      <th>SDOT_COLCODE</th>\n      <th>INATTENTIONIND</th>\n      <th>UNDERINFL</th>\n      <th>WEATHER</th>\n      <th>ROADCOND</th>\n      <th>LIGHTCOND</th>\n      <th>PEDROWNOTGRNT</th>\n      <th>SPEEDING</th>\n      <th>ST_COLCODE</th>\n      <th>HITPARKEDCAR</th>\n      <th>period</th>\n      <th>weekend</th>\n      <th>winter</th>\n      <th>spring</th>\n      <th>summer</th>\n      <th>fall</th>\n    </tr>\n  </thead>\n  <tbody>\n    <tr>\n      <th>0</th>\n      <td>1</td>\n      <td>Intersection</td>\n      <td>Angles</td>\n      <td>2</td>\n      <td>0</td>\n      <td>0</td>\n      <td>2</td>\n      <td>At Intersection (intersection related)</td>\n      <td>11</td>\n      <td>0</td>\n      <td>0</td>\n      <td>Overcast</td>\n      <td>Wet</td>\n      <td>Daylight</td>\n      <td>0</td>\n      <td>0</td>\n      <td>10</td>\n      <td>0</td>\n      <td>Afternoon</td>\n      <td>0</td>\n      <td>0</td>\n      <td>1</td>\n      <td>0</td>\n      <td>0</td>\n    </tr>\n    <tr>\n      <th>4</th>\n      <td>1</td>\n      <td>Intersection</td>\n      <td>Angles</td>\n      <td>2</td>\n      <td>0</td>\n      <td>0</td>\n      <td>2</td>\n      <td>At Intersection (intersection related)</td>\n      <td>11</td>\n      <td>0</td>\n      <td>0</td>\n      <td>Raining</td>\n      <td>Wet</td>\n      <td>Daylight</td>\n      <td>0</td>\n      <td>0</td>\n      <td>10</td>\n      <td>0</td>\n      <td>Morning</td>\n      <td>0</td>\n      <td>1</td>\n      <td>0</td>\n      <td>0</td>\n      <td>0</td>\n    </tr>\n    <tr>\n      <th>7</th>\n      <td>1</td>\n      <td>Intersection</td>\n      <td>Cycles</td>\n      <td>3</td>\n      <td>0</td>\n      <td>1</td>\n      <td>1</td>\n      <td>At Intersection (intersection related)</td>\n      <td>51</td>\n      <td>0</td>\n      <td>0</td>\n      <td>Clear</td>\n      <td>Dry</td>\n      <td>Daylight</td>\n      <td>0</td>\n      <td>0</td>\n      <td>5</td>\n      <td>0</td>\n      <td>Evening</td>\n      <td>0</td>\n      <td>0</td>\n      <td>1</td>\n      <td>0</td>\n      <td>0</td>\n    </tr>\n    <tr>\n      <th>9</th>\n      <td>1</td>\n      <td>Intersection</td>\n      <td>Angles</td>\n      <td>2</td>\n      <td>0</td>\n      <td>0</td>\n      <td>2</td>\n      <td>At Intersection (intersection related)</td>\n      <td>11</td>\n      <td>0</td>\n      <td>0</td>\n      <td>Clear</td>\n      <td>Dry</td>\n      <td>Daylight</td>\n      <td>0</td>\n      <td>0</td>\n      <td>10</td>\n      <td>0</td>\n      <td>Afternoon</td>\n      <td>0</td>\n      <td>0</td>\n      <td>1</td>\n      <td>0</td>\n      <td>0</td>\n    </tr>\n    <tr>\n      <th>14</th>\n      <td>1</td>\n      <td>Block</td>\n      <td>Head On</td>\n      <td>2</td>\n      <td>0</td>\n      <td>0</td>\n      <td>2</td>\n      <td>Mid-Block (not related to intersection)</td>\n      <td>11</td>\n      <td>0</td>\n      <td>0</td>\n      <td>Clear</td>\n      <td>Dry</td>\n      <td>Dark - Street Lights On</td>\n      <td>0</td>\n      <td>0</td>\n      <td>30</td>\n      <td>0</td>\n      <td>Late Night</td>\n      <td>1</td>\n      <td>0</td>\n      <td>1</td>\n      <td>0</td>\n      <td>0</td>\n    </tr>\n  </tbody>\n</table>\n</div>",
                        "text/plain": "    SEVERITYCODE      ADDRTYPE COLLISIONTYPE  PERSONCOUNT  PEDCOUNT  \\\n0              1  Intersection        Angles            2         0   \n4              1  Intersection        Angles            2         0   \n7              1  Intersection        Cycles            3         0   \n9              1  Intersection        Angles            2         0   \n14             1         Block       Head On            2         0   \n\n    PEDCYLCOUNT  VEHCOUNT                             JUNCTIONTYPE  \\\n0             0         2   At Intersection (intersection related)   \n4             0         2   At Intersection (intersection related)   \n7             1         1   At Intersection (intersection related)   \n9             0         2   At Intersection (intersection related)   \n14            0         2  Mid-Block (not related to intersection)   \n\n    SDOT_COLCODE  INATTENTIONIND  UNDERINFL   WEATHER ROADCOND  \\\n0             11               0          0  Overcast      Wet   \n4             11               0          0   Raining      Wet   \n7             51               0          0     Clear      Dry   \n9             11               0          0     Clear      Dry   \n14            11               0          0     Clear      Dry   \n\n                  LIGHTCOND  PEDROWNOTGRNT  SPEEDING ST_COLCODE  HITPARKEDCAR  \\\n0                  Daylight              0         0         10             0   \n4                  Daylight              0         0         10             0   \n7                  Daylight              0         0          5             0   \n9                  Daylight              0         0         10             0   \n14  Dark - Street Lights On              0         0         30             0   \n\n        period  weekend  winter  spring  summer  fall  \n0    Afternoon        0       0       1       0     0  \n4      Morning        0       1       0       0     0  \n7      Evening        0       0       1       0     0  \n9    Afternoon        0       0       1       0     0  \n14  Late Night        1       0       1       0     0  "
                    },
                    "execution_count": 77,
                    "metadata": {},
                    "output_type": "execute_result"
                }
            ],
            "source": "cdf_minority.head()"
        },
        {
            "cell_type": "code",
            "execution_count": 78,
            "metadata": {},
            "outputs": [
                {
                    "data": {
                        "text/plain": "1    56656\n0    56656\nName: SEVERITYCODE, dtype: int64"
                    },
                    "execution_count": 78,
                    "metadata": {},
                    "output_type": "execute_result"
                }
            ],
            "source": "# Downsample majority class\ncdf_majority_downsampled = resample(cdf_majority, \n                                 replace=False,    # sample without replacement\n                                 n_samples=56656,     # to match minority class\n                                 random_state=123) # reproducible results\n \n# Combine minority class with downsampled majority class\ncdf3 = pd.concat([cdf_majority_downsampled, cdf_minority])\n \n# Display new class counts\ncdf3.SEVERITYCODE.value_counts()"
        },
        {
            "cell_type": "markdown",
            "metadata": {},
            "source": "### Separate dependent variable from the independent variables "
        },
        {
            "cell_type": "markdown",
            "metadata": {},
            "source": "#### Create two subsets of independent variables and normalize them:"
        },
        {
            "cell_type": "markdown",
            "metadata": {},
            "source": "##### Subset 1 (X1) - All relevant indendent variables:"
        },
        {
            "cell_type": "code",
            "execution_count": 79,
            "metadata": {},
            "outputs": [],
            "source": "Feature1 = cdf3[['PERSONCOUNT', 'PEDCOUNT', 'PEDCYLCOUNT', 'VEHCOUNT', 'INATTENTIONIND', 'UNDERINFL', \\\n                'PEDROWNOTGRNT', 'SPEEDING', 'HITPARKEDCAR', 'weekend', 'winter', 'spring', 'summer']]"
        },
        {
            "cell_type": "code",
            "execution_count": 80,
            "metadata": {},
            "outputs": [],
            "source": "Feature1 = pd.concat([Feature1, pd.get_dummies(cdf3[['ADDRTYPE', 'COLLISIONTYPE', 'JUNCTIONTYPE', 'WEATHER', \\\n                    'ROADCOND', 'LIGHTCOND', 'period']], prefix='', prefix_sep='')], axis = 1)\nFeature1 = pd.concat([Feature1, pd.get_dummies(cdf3['SDOT_COLCODE'], prefix='SDOTCODE', prefix_sep='.')], axis = 1)\nFeature1 = pd.concat([Feature1, pd.get_dummies(cdf3[['ST_COLCODE']], prefix='STCODE', prefix_sep='.')], axis = 1)"
        },
        {
            "cell_type": "code",
            "execution_count": 81,
            "metadata": {},
            "outputs": [
                {
                    "name": "stderr",
                    "output_type": "stream",
                    "text": "/opt/conda/envs/Python36/lib/python3.6/site-packages/sklearn/preprocessing/data.py:645: DataConversionWarning: Data with input dtype uint8, int64 were all converted to float64 by StandardScaler.\n  return self.partial_fit(X, y)\n/opt/conda/envs/Python36/lib/python3.6/site-packages/ipykernel/__main__.py:1: DataConversionWarning: Data with input dtype uint8, int64 were all converted to float64 by StandardScaler.\n  if __name__ == '__main__':\n"
                },
                {
                    "data": {
                        "text/plain": "array([[ 0.32125901, -0.23940111, -0.21513193, ..., -0.01706799,\n        -0.00297074, -0.00727695],\n       [-0.38335553, -0.23940111, -0.21513193, ..., -0.01706799,\n        -0.00297074, -0.00727695],\n       [-0.38335553, -0.23940111, -0.21513193, ..., -0.01706799,\n        -0.00297074, -0.00727695],\n       [ 0.32125901, -0.23940111, -0.21513193, ..., -0.01706799,\n        -0.00297074, -0.00727695],\n       [-0.38335553, -0.23940111, -0.21513193, ..., -0.01706799,\n        -0.00297074, -0.00727695]])"
                    },
                    "execution_count": 81,
                    "metadata": {},
                    "output_type": "execute_result"
                }
            ],
            "source": "X1 = preprocessing.StandardScaler().fit(Feature1).transform(Feature1)\nX1[0:5]"
        },
        {
            "cell_type": "markdown",
            "metadata": {},
            "source": "##### Subset 2 (X2) - Independent variables easily identifiable before a collision:"
        },
        {
            "cell_type": "code",
            "execution_count": 82,
            "metadata": {},
            "outputs": [],
            "source": "Feature2 = cdf3[['INATTENTIONIND', 'UNDERINFL', 'PEDROWNOTGRNT', 'SPEEDING', 'HITPARKEDCAR', 'weekend', 'winter', 'spring', 'summer']]"
        },
        {
            "cell_type": "code",
            "execution_count": 83,
            "metadata": {},
            "outputs": [],
            "source": "Feature2 = pd.concat([Feature2, pd.get_dummies(cdf3[['ADDRTYPE', 'JUNCTIONTYPE', 'WEATHER', \\\n                    'ROADCOND', 'LIGHTCOND', 'period']], prefix='', prefix_sep='')], axis = 1)"
        },
        {
            "cell_type": "code",
            "execution_count": 84,
            "metadata": {},
            "outputs": [
                {
                    "name": "stderr",
                    "output_type": "stream",
                    "text": "/opt/conda/envs/Python36/lib/python3.6/site-packages/sklearn/preprocessing/data.py:645: DataConversionWarning: Data with input dtype uint8, int64 were all converted to float64 by StandardScaler.\n  return self.partial_fit(X, y)\n/opt/conda/envs/Python36/lib/python3.6/site-packages/ipykernel/__main__.py:1: DataConversionWarning: Data with input dtype uint8, int64 were all converted to float64 by StandardScaler.\n  if __name__ == '__main__':\n"
                },
                {
                    "data": {
                        "text/plain": "array([[-4.45872608e-01, -2.37266980e-01, -2.01044011e-01,\n         4.23096729e+00, -1.59756721e-01, -8.47498867e-01,\n         1.82175367e+00, -5.81141158e-01, -5.85611749e-01,\n        -4.85079832e-02,  7.91431319e-01, -7.87513728e-01,\n        -1.07100182e-01, -7.68614380e-01, -2.47190095e-01,\n         2.67826627e+00, -8.79926318e-01, -3.07439089e-02,\n        -4.20127276e-03, -1.70679856e-02, -1.24014244e+00,\n        -5.66907389e-02, -5.91451152e-02, -4.19388854e-01,\n        -5.14550997e-03,  2.11237673e+00, -1.07117058e-02,\n        -2.45045570e-02, -6.44687292e-02, -2.28206925e-01,\n        -1.45031654e+00, -7.70077083e-02, -1.90253459e-02,\n        -2.77196959e-02, -1.87918143e-02, -6.69744504e-02,\n        -2.45045570e-02, -2.26231036e-01,  1.68227495e+00,\n        -8.70403759e-02, -7.91246614e-02, -5.89852007e-01,\n        -7.27694632e-03, -1.18992158e-01,  7.54554885e-01,\n        -1.81818596e-01, -3.26954062e-02, -2.14157885e-01,\n        -5.42152715e-01, -2.67751171e-01, -5.44101033e-01,\n        -4.94804150e-01,  2.21376256e+00, -3.54023584e-01],\n       [-4.45872608e-01, -2.37266980e-01, -2.01044011e-01,\n        -2.36352572e-01, -1.59756721e-01,  1.17994258e+00,\n         1.82175367e+00, -5.81141158e-01, -5.85611749e-01,\n        -4.85079832e-02,  7.91431319e-01, -7.87513728e-01,\n        -1.07100182e-01, -7.68614380e-01, -2.47190095e-01,\n        -3.73375870e-01,  1.13645879e+00, -3.07439089e-02,\n        -4.20127276e-03, -1.70679856e-02, -1.24014244e+00,\n        -5.66907389e-02, -5.91451152e-02, -4.19388854e-01,\n        -5.14550997e-03, -4.73400405e-01, -1.07117058e-02,\n        -2.45045570e-02, -6.44687292e-02,  4.38198796e+00,\n        -1.45031654e+00, -7.70077083e-02, -1.90253459e-02,\n        -2.77196959e-02, -1.87918143e-02, -6.69744504e-02,\n        -2.45045570e-02,  4.42026001e+00, -5.94433151e-01,\n        -8.70403759e-02, -7.91246614e-02, -5.89852007e-01,\n        -7.27694632e-03, -1.18992158e-01, -1.32528464e+00,\n        -1.81818596e-01, -3.26954062e-02,  4.66945216e+00,\n        -5.42152715e-01, -2.67751171e-01, -5.44101033e-01,\n         2.02100164e+00, -4.51719628e-01, -3.54023584e-01],\n       [ 2.24279308e+00, -2.37266980e-01, -2.01044011e-01,\n        -2.36352572e-01, -1.59756721e-01, -8.47498867e-01,\n         1.82175367e+00, -5.81141158e-01, -5.85611749e-01,\n        -4.85079832e-02,  7.91431319e-01, -7.87513728e-01,\n        -1.07100182e-01, -7.68614380e-01, -2.47190095e-01,\n        -3.73375870e-01,  1.13645879e+00, -3.07439089e-02,\n        -4.20127276e-03, -1.70679856e-02,  8.06358984e-01,\n        -5.66907389e-02, -5.91451152e-02, -4.19388854e-01,\n        -5.14550997e-03, -4.73400405e-01, -1.07117058e-02,\n        -2.45045570e-02, -6.44687292e-02, -2.28206925e-01,\n         6.89504653e-01, -7.70077083e-02, -1.90253459e-02,\n        -2.77196959e-02, -1.87918143e-02, -6.69744504e-02,\n        -2.45045570e-02, -2.26231036e-01, -5.94433151e-01,\n        -8.70403759e-02, -7.91246614e-02, -5.89852007e-01,\n        -7.27694632e-03, -1.18992158e-01,  7.54554885e-01,\n        -1.81818596e-01, -3.26954062e-02, -2.14157885e-01,\n        -5.42152715e-01, -2.67751171e-01, -5.44101033e-01,\n         2.02100164e+00, -4.51719628e-01, -3.54023584e-01],\n       [-4.45872608e-01, -2.37266980e-01, -2.01044011e-01,\n        -2.36352572e-01, -1.59756721e-01, -8.47498867e-01,\n        -5.48921632e-01, -5.81141158e-01,  1.70761601e+00,\n        -4.85079832e-02,  7.91431319e-01, -7.87513728e-01,\n        -1.07100182e-01, -7.68614380e-01, -2.47190095e-01,\n        -3.73375870e-01,  1.13645879e+00, -3.07439089e-02,\n        -4.20127276e-03, -1.70679856e-02,  8.06358984e-01,\n        -5.66907389e-02, -5.91451152e-02, -4.19388854e-01,\n        -5.14550997e-03, -4.73400405e-01, -1.07117058e-02,\n        -2.45045570e-02, -6.44687292e-02, -2.28206925e-01,\n         6.89504653e-01, -7.70077083e-02, -1.90253459e-02,\n        -2.77196959e-02, -1.87918143e-02, -6.69744504e-02,\n        -2.45045570e-02, -2.26231036e-01, -5.94433151e-01,\n        -8.70403759e-02, -7.91246614e-02, -5.89852007e-01,\n        -7.27694632e-03, -1.18992158e-01,  7.54554885e-01,\n        -1.81818596e-01, -3.26954062e-02, -2.14157885e-01,\n         1.84449874e+00, -2.67751171e-01, -5.44101033e-01,\n        -4.94804150e-01, -4.51719628e-01, -3.54023584e-01],\n       [-4.45872608e-01, -2.37266980e-01, -2.01044011e-01,\n        -2.36352572e-01, -1.59756721e-01, -8.47498867e-01,\n        -5.48921632e-01, -5.81141158e-01,  1.70761601e+00,\n        -4.85079832e-02, -1.26353352e+00,  1.26981913e+00,\n        -1.07100182e-01,  1.30104253e+00, -2.47190095e-01,\n        -3.73375870e-01, -8.79926318e-01, -3.07439089e-02,\n        -4.20127276e-03, -1.70679856e-02,  8.06358984e-01,\n        -5.66907389e-02, -5.91451152e-02, -4.19388854e-01,\n        -5.14550997e-03, -4.73400405e-01, -1.07117058e-02,\n        -2.45045570e-02, -6.44687292e-02, -2.28206925e-01,\n         6.89504653e-01, -7.70077083e-02, -1.90253459e-02,\n        -2.77196959e-02, -1.87918143e-02, -6.69744504e-02,\n        -2.45045570e-02, -2.26231036e-01, -5.94433151e-01,\n        -8.70403759e-02, -7.91246614e-02, -5.89852007e-01,\n        -7.27694632e-03, -1.18992158e-01,  7.54554885e-01,\n        -1.81818596e-01, -3.26954062e-02, -2.14157885e-01,\n        -5.42152715e-01, -2.67751171e-01, -5.44101033e-01,\n        -4.94804150e-01,  2.21376256e+00, -3.54023584e-01]])"
                    },
                    "execution_count": 84,
                    "metadata": {},
                    "output_type": "execute_result"
                }
            ],
            "source": "X2 = preprocessing.StandardScaler().fit(Feature2).transform(Feature2)\nX2[0:5]"
        },
        {
            "cell_type": "markdown",
            "metadata": {},
            "source": "#### Create a subset for the dependent variable:"
        },
        {
            "cell_type": "code",
            "execution_count": 85,
            "metadata": {},
            "outputs": [
                {
                    "data": {
                        "text/plain": "array([0, 0, 0, 0, 0], dtype=int64)"
                    },
                    "execution_count": 85,
                    "metadata": {},
                    "output_type": "execute_result"
                }
            ],
            "source": "y = cdf3['SEVERITYCODE'].values\ny[0:5]"
        },
        {
            "cell_type": "markdown",
            "metadata": {},
            "source": "## MODELING"
        },
        {
            "cell_type": "markdown",
            "metadata": {},
            "source": "### Test/Train partitioning"
        },
        {
            "cell_type": "markdown",
            "metadata": {},
            "source": "##### Partitioning for Subset 1 of independent variables (X1):"
        },
        {
            "cell_type": "code",
            "execution_count": 86,
            "metadata": {},
            "outputs": [
                {
                    "name": "stdout",
                    "output_type": "stream",
                    "text": "Train set: (90649, 217) (90649,)\nTest set: (22663, 217) (22663,)\n"
                }
            ],
            "source": "from sklearn.model_selection import train_test_split\nX1_train, X1_test, y_train, y_test = train_test_split(X1, y, test_size=0.2, random_state=4)\nprint ('Train set:', X1_train.shape,  y_train.shape)\nprint ('Test set:', X1_test.shape,  y_test.shape)"
        },
        {
            "cell_type": "markdown",
            "metadata": {},
            "source": "##### Partitioning for Subset 2 of independent variables (X2):"
        },
        {
            "cell_type": "code",
            "execution_count": 87,
            "metadata": {},
            "outputs": [
                {
                    "name": "stdout",
                    "output_type": "stream",
                    "text": "Train set: (90649, 54) (90649,)\nTest set: (22663, 54) (22663,)\n"
                }
            ],
            "source": "from sklearn.model_selection import train_test_split\nX2_train, X2_test, y_train, y_test = train_test_split(X2, y, test_size=0.2, random_state=4)\nprint ('Train set:', X2_train.shape,  y_train.shape)\nprint ('Test set:', X2_test.shape,  y_test.shape)"
        },
        {
            "cell_type": "markdown",
            "metadata": {},
            "source": "### K Nearest Neighbor(KNN)"
        },
        {
            "cell_type": "code",
            "execution_count": 95,
            "metadata": {},
            "outputs": [],
            "source": "from sklearn.neighbors import KNeighborsClassifier\nfrom sklearn import metrics"
        },
        {
            "cell_type": "code",
            "execution_count": 119,
            "metadata": {},
            "outputs": [],
            "source": "## Best k\n#Ks=15\n#mean_acc1=np.zeros((Ks-1))\n#std_acc1=np.zeros((Ks-1))\n#ConfustionMx1=[];\n#for n in range(1,Ks):\n    \n    #Train Model and Predict  \n#    kNN_model1 = KNeighborsClassifier(n_neighbors=n).fit(X1_train,y_train)\n#    yhat = kNN_model1.predict(X1_test)\n    \n    \n#    mean_acc1[n-1]=np.mean(yhat==y_test);\n    \n#    std_acc1[n-1]=np.std(yhat==y_test)/np.sqrt(yhat.shape[0])\n#mean_acc1"
        },
        {
            "cell_type": "code",
            "execution_count": 120,
            "metadata": {},
            "outputs": [
                {
                    "name": "stdout",
                    "output_type": "stream",
                    "text": "The highest accuracy is  0.6920090014561179 with k= 13\n"
                }
            ],
            "source": "#print(\"The highest accuracy is \", mean_acc1.max(), \"with k=\", mean_acc1.argmax()+1)\nprint(\"The highest accuracy is \", 0.6920090014561179, \"with k=\", 13)"
        },
        {
            "cell_type": "code",
            "execution_count": null,
            "metadata": {},
            "outputs": [],
            "source": "k = 13\nkNN_model1 = KNeighborsClassifier(n_neighbors = k).fit(X1_train,y_train)\nkNN_model1"
        },
        {
            "cell_type": "code",
            "execution_count": 96,
            "metadata": {},
            "outputs": [
                {
                    "data": {
                        "text/plain": "array([0.56029652, 0.55186868, 0.57326921, 0.57101884, 0.58178529,\n       0.57781406, 0.58509465, 0.57979967, 0.58919825, 0.58760976,\n       0.59493447, 0.59043375, 0.59537572, 0.59303711])"
                    },
                    "execution_count": 96,
                    "metadata": {},
                    "output_type": "execute_result"
                }
            ],
            "source": "# Best k\nKs=15\nmean_acc2=np.zeros((Ks-1))\nstd_acc2=np.zeros((Ks-1))\nConfustionMx2=[];\nfor n in range(1,Ks):\n    \n    #Train Model and Predict  \n    kNN_model2 = KNeighborsClassifier(n_neighbors=n).fit(X2_train,y_train)\n    yhat = kNN_model2.predict(X2_test)\n    \n    \n    mean_acc2[n-1]=np.mean(yhat==y_test);\n    \n    std_acc2[n-1]=np.std(yhat==y_test)/np.sqrt(yhat.shape[0])\nmean_acc2"
        },
        {
            "cell_type": "code",
            "execution_count": 97,
            "metadata": {},
            "outputs": [
                {
                    "name": "stdout",
                    "output_type": "stream",
                    "text": "The highest accuracy is 0.5953757225433526 with k= 13\n"
                }
            ],
            "source": "print(\"The highest accuracy is\", mean_acc2.max(), \"with k=\", mean_acc2.argmax()+1)"
        },
        {
            "cell_type": "code",
            "execution_count": 98,
            "metadata": {},
            "outputs": [
                {
                    "data": {
                        "text/plain": "KNeighborsClassifier(algorithm='auto', leaf_size=30, metric='minkowski',\n           metric_params=None, n_jobs=None, n_neighbors=13, p=2,\n           weights='uniform')"
                    },
                    "execution_count": 98,
                    "metadata": {},
                    "output_type": "execute_result"
                }
            ],
            "source": "kNN_model2 = KNeighborsClassifier(n_neighbors = mean_acc2.argmax()+1).fit(X2_train,y_train)\nkNN_model2"
        },
        {
            "cell_type": "markdown",
            "metadata": {},
            "source": "### Decision Tree"
        },
        {
            "cell_type": "code",
            "execution_count": 88,
            "metadata": {},
            "outputs": [],
            "source": "from sklearn.tree import DecisionTreeClassifier"
        },
        {
            "cell_type": "code",
            "execution_count": 114,
            "metadata": {},
            "outputs": [
                {
                    "data": {
                        "text/plain": "DecisionTreeClassifier(class_weight=None, criterion='entropy', max_depth=4,\n            max_features=None, max_leaf_nodes=None,\n            min_impurity_decrease=0.0, min_impurity_split=None,\n            min_samples_leaf=1, min_samples_split=2,\n            min_weight_fraction_leaf=0.0, presort=False, random_state=None,\n            splitter='best')"
                    },
                    "execution_count": 114,
                    "metadata": {},
                    "output_type": "execute_result"
                }
            ],
            "source": "DT_model1 = DecisionTreeClassifier(criterion=\"entropy\", max_depth = 4).fit(X1_train,y_train)\nDT_model1"
        },
        {
            "cell_type": "code",
            "execution_count": 115,
            "metadata": {},
            "outputs": [
                {
                    "data": {
                        "text/plain": "DecisionTreeClassifier(class_weight=None, criterion='entropy', max_depth=4,\n            max_features=None, max_leaf_nodes=None,\n            min_impurity_decrease=0.0, min_impurity_split=None,\n            min_samples_leaf=1, min_samples_split=2,\n            min_weight_fraction_leaf=0.0, presort=False, random_state=None,\n            splitter='best')"
                    },
                    "execution_count": 115,
                    "metadata": {},
                    "output_type": "execute_result"
                }
            ],
            "source": "DT_model2 = DecisionTreeClassifier(criterion=\"entropy\", max_depth = 4).fit(X2_train,y_train)\nDT_model2"
        },
        {
            "cell_type": "markdown",
            "metadata": {},
            "source": "### Support Vector Machine"
        },
        {
            "cell_type": "code",
            "execution_count": 99,
            "metadata": {},
            "outputs": [],
            "source": "from sklearn import svm"
        },
        {
            "cell_type": "code",
            "execution_count": 104,
            "metadata": {},
            "outputs": [
                {
                    "name": "stderr",
                    "output_type": "stream",
                    "text": "/opt/conda/envs/Python36/lib/python3.6/site-packages/sklearn/svm/base.py:196: FutureWarning: The default value of gamma will change from 'auto' to 'scale' in version 0.22 to account better for unscaled features. Set gamma explicitly to 'auto' or 'scale' to avoid this warning.\n  \"avoid this warning.\", FutureWarning)\n"
                },
                {
                    "data": {
                        "text/plain": "SVC(C=1.0, cache_size=200, class_weight=None, coef0=0.0,\n  decision_function_shape='ovr', degree=3, gamma='auto_deprecated',\n  kernel='rbf', max_iter=-1, probability=False, random_state=None,\n  shrinking=True, tol=0.001, verbose=False)"
                    },
                    "execution_count": 104,
                    "metadata": {},
                    "output_type": "execute_result"
                }
            ],
            "source": "SVM_model1 = svm.SVC().fit(X1_train, y_train)\nSVM_model1"
        },
        {
            "cell_type": "code",
            "execution_count": 100,
            "metadata": {},
            "outputs": [
                {
                    "name": "stderr",
                    "output_type": "stream",
                    "text": "/opt/conda/envs/Python36/lib/python3.6/site-packages/sklearn/svm/base.py:196: FutureWarning: The default value of gamma will change from 'auto' to 'scale' in version 0.22 to account better for unscaled features. Set gamma explicitly to 'auto' or 'scale' to avoid this warning.\n  \"avoid this warning.\", FutureWarning)\n"
                },
                {
                    "data": {
                        "text/plain": "SVC(C=1.0, cache_size=200, class_weight=None, coef0=0.0,\n  decision_function_shape='ovr', degree=3, gamma='auto_deprecated',\n  kernel='rbf', max_iter=-1, probability=False, random_state=None,\n  shrinking=True, tol=0.001, verbose=False)"
                    },
                    "execution_count": 100,
                    "metadata": {},
                    "output_type": "execute_result"
                }
            ],
            "source": "SVM_model2 = svm.SVC().fit(X2_train, y_train)\nSVM_model2"
        },
        {
            "cell_type": "markdown",
            "metadata": {},
            "source": "### Logistic Regression"
        },
        {
            "cell_type": "code",
            "execution_count": 101,
            "metadata": {},
            "outputs": [],
            "source": "from sklearn.linear_model import LogisticRegression"
        },
        {
            "cell_type": "code",
            "execution_count": 102,
            "metadata": {},
            "outputs": [
                {
                    "name": "stderr",
                    "output_type": "stream",
                    "text": "/opt/conda/envs/Python36/lib/python3.6/site-packages/sklearn/linear_model/logistic.py:433: FutureWarning: Default solver will be changed to 'lbfgs' in 0.22. Specify a solver to silence this warning.\n  FutureWarning)\n"
                },
                {
                    "data": {
                        "text/plain": "LogisticRegression(C=0.01, class_weight=None, dual=False, fit_intercept=True,\n          intercept_scaling=1, max_iter=100, multi_class='warn',\n          n_jobs=None, penalty='l2', random_state=None, solver='warn',\n          tol=0.0001, verbose=0, warm_start=False)"
                    },
                    "execution_count": 102,
                    "metadata": {},
                    "output_type": "execute_result"
                }
            ],
            "source": "LR_model1 = LogisticRegression(C=0.01).fit(X1_train,y_train)\nLR_model1"
        },
        {
            "cell_type": "code",
            "execution_count": 103,
            "metadata": {},
            "outputs": [
                {
                    "name": "stderr",
                    "output_type": "stream",
                    "text": "/opt/conda/envs/Python36/lib/python3.6/site-packages/sklearn/linear_model/logistic.py:433: FutureWarning: Default solver will be changed to 'lbfgs' in 0.22. Specify a solver to silence this warning.\n  FutureWarning)\n"
                },
                {
                    "data": {
                        "text/plain": "LogisticRegression(C=0.01, class_weight=None, dual=False, fit_intercept=True,\n          intercept_scaling=1, max_iter=100, multi_class='warn',\n          n_jobs=None, penalty='l2', random_state=None, solver='warn',\n          tol=0.0001, verbose=0, warm_start=False)"
                    },
                    "execution_count": 103,
                    "metadata": {},
                    "output_type": "execute_result"
                }
            ],
            "source": "LR_model2 = LogisticRegression(C=0.01).fit(X2_train,y_train)\nLR_model2"
        },
        {
            "cell_type": "markdown",
            "metadata": {},
            "source": "## Model Evaluation using Test set"
        },
        {
            "cell_type": "code",
            "execution_count": 91,
            "metadata": {},
            "outputs": [],
            "source": "from sklearn.metrics import jaccard_similarity_score\nfrom sklearn.metrics import f1_score\nfrom sklearn.metrics import log_loss"
        },
        {
            "cell_type": "markdown",
            "metadata": {},
            "source": "#### KNN model evaluation for the two separate sets of independent variables:"
        },
        {
            "cell_type": "code",
            "execution_count": null,
            "metadata": {},
            "outputs": [],
            "source": "knn_yhat1 = kNN_model1.predict(X1_test)\nprint(\"KNN Jaccard index: %.2f\" % jaccard_similarity_score(y_test, knn_yhat1))\nprint(\"KNN F1-score: %.2f\" % f1_score(y_test, knn_yhat1, average='weighted') )"
        },
        {
            "cell_type": "code",
            "execution_count": 105,
            "metadata": {},
            "outputs": [
                {
                    "name": "stdout",
                    "output_type": "stream",
                    "text": "KNN Jaccard index: 0.60\nKNN F1-score: 0.60\n"
                }
            ],
            "source": "knn_yhat2 = kNN_model2.predict(X2_test)\nprint(\"KNN Jaccard index: %.2f\" % jaccard_similarity_score(y_test, knn_yhat2))\nprint(\"KNN F1-score: %.2f\" % f1_score(y_test, knn_yhat2, average='weighted') )"
        },
        {
            "cell_type": "markdown",
            "metadata": {},
            "source": "#### Decision Tree model evaluation for the two separate sets of independent variables:"
        },
        {
            "cell_type": "code",
            "execution_count": 116,
            "metadata": {},
            "outputs": [
                {
                    "name": "stdout",
                    "output_type": "stream",
                    "text": "DT Jaccard index: 0.69\nDT F1-score: 0.67\n"
                }
            ],
            "source": "DT_yhat1 = DT_model1.predict(X1_test)\nprint(\"DT Jaccard index: %.2f\" % jaccard_similarity_score(y_test, DT_yhat1))\nprint(\"DT F1-score: %.2f\" % f1_score(y_test, DT_yhat1, average='weighted') )"
        },
        {
            "cell_type": "code",
            "execution_count": 117,
            "metadata": {},
            "outputs": [
                {
                    "name": "stdout",
                    "output_type": "stream",
                    "text": "DT Jaccard index: 0.61\nDT F1-score: 0.61\n"
                }
            ],
            "source": "DT_yhat2 = DT_model2.predict(X2_test)\nprint(\"DT Jaccard index: %.2f\" % jaccard_similarity_score(y_test, DT_yhat2))\nprint(\"DT F1-score: %.2f\" % f1_score(y_test, DT_yhat2, average='weighted') )"
        },
        {
            "cell_type": "markdown",
            "metadata": {},
            "source": "#### Support Vector Machine model evaluation for the two separate sets of independent variables:"
        },
        {
            "cell_type": "code",
            "execution_count": 106,
            "metadata": {},
            "outputs": [
                {
                    "name": "stdout",
                    "output_type": "stream",
                    "text": "SVM Jaccard index: 0.71\nSVM F1-score: 0.71\n"
                }
            ],
            "source": "SVM_yhat1 = SVM_model1.predict(X1_test)\nprint(\"SVM Jaccard index: %.2f\" % jaccard_similarity_score(y_test, SVM_yhat1))\nprint(\"SVM F1-score: %.2f\" % f1_score(y_test, SVM_yhat1, average='weighted') )"
        },
        {
            "cell_type": "code",
            "execution_count": 107,
            "metadata": {},
            "outputs": [
                {
                    "name": "stdout",
                    "output_type": "stream",
                    "text": "SVM Jaccard index: 0.63\nSVM F1-score: 0.63\n"
                }
            ],
            "source": "SVM_yhat2 = SVM_model2.predict(X2_test)\nprint(\"SVM Jaccard index: %.2f\" % jaccard_similarity_score(y_test, SVM_yhat2))\nprint(\"SVM F1-score: %.2f\" % f1_score(y_test, SVM_yhat2, average='weighted') )"
        },
        {
            "cell_type": "markdown",
            "metadata": {},
            "source": "#### Logistic Regression model evaluation for the two separate sets of independent variables:"
        },
        {
            "cell_type": "code",
            "execution_count": 108,
            "metadata": {},
            "outputs": [
                {
                    "name": "stdout",
                    "output_type": "stream",
                    "text": "LR Jaccard index: 0.72\nLR F1-score: 0.71\nLR LogLoss: 0.53\n"
                }
            ],
            "source": "LR_yhat1 = LR_model1.predict(X1_test)\nLR_yhat_prob1 = LR_model1.predict_proba(X1_test)\nprint(\"LR Jaccard index: %.2f\" % jaccard_similarity_score(y_test, LR_yhat1))\nprint(\"LR F1-score: %.2f\" % f1_score(y_test, LR_yhat1, average='weighted') )\nprint(\"LR LogLoss: %.2f\" % log_loss(y_test, LR_yhat_prob1))"
        },
        {
            "cell_type": "code",
            "execution_count": 109,
            "metadata": {},
            "outputs": [
                {
                    "name": "stdout",
                    "output_type": "stream",
                    "text": "LR Jaccard index: 0.63\nLR F1-score: 0.63\nLR LogLoss: 0.63\n"
                }
            ],
            "source": "LR_yhat2 = LR_model2.predict(X2_test)\nLR_yhat_prob2 = LR_model2.predict_proba(X2_test)\nprint(\"LR Jaccard index: %.2f\" % jaccard_similarity_score(y_test, LR_yhat2))\nprint(\"LR F1-score: %.2f\" % f1_score(y_test, LR_yhat2, average='weighted') )\nprint(\"LR LogLoss: %.2f\" % log_loss(y_test, LR_yhat_prob2))"
        }
    ],
    "metadata": {
        "kernelspec": {
            "display_name": "Python 3.6",
            "language": "python",
            "name": "python3"
        }
    },
    "nbformat": 4,
    "nbformat_minor": 1
}