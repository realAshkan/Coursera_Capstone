{
    "cells": [
        {
            "cell_type": "markdown",
            "metadata": {
                "collapsed": true
            },
            "source": "# Data Science Capstone Project\n## Title: Predicting Severity of Collisions"
        },
        {
            "cell_type": "markdown",
            "metadata": {},
            "source": "### Introduction/Business Problem"
        },
        {
            "cell_type": "markdown",
            "metadata": {},
            "source": "As PBS reported in May 2014, The economic and societal harm from motor vehicle crashes amounted to a whopping $871 billion in a single year, according to a study released in 2014 by the National Highway Traffic Safety Administration. The study examined the economic toll of car and truck crashes in 2010, when 32,999 people were killed, 3.9 million injured and 24 million vehicles damaged. Those deaths and injuries were similar to other recent years. Of the total price tag, $277 billion was attributed to economic costs \u2014 nearly $900 for every person living in the U.S. that year. Harm from loss of life, pain and decreased quality of life due to injuries was pegged at $594 billion.\n\n\u201cWhile the economic and societal costs of crashes are staggering, today\u2019s report clearly demonstrates that investments in safety are worth every penny used to reduce frequency and severity of these tragic events,\u201d Transportation Secretary Anthony Foxx said in a statement in 2014. As the data and statement by the Transportation Secretary suggest, reducing the number and/or severity of car accidents is a major priority for the government, states, and the individuals who get into collisions. \n\nOnce a driver considers the cost of a car accident which could be as significant as losing his/her life, they acknowledge that it would be great if there is something in place that could warn them, given the weather and the road conditions about the possibility of them getting into a car accident and how severe it would be, so that they would drive more carefully or even change their travel if they are able to. As a result, the main users of outputs from a collision severity prediction model are the drivers on the road. In that case, the output can be an additional feature to the navigation system/app and as simple as indicating the liklihood of getting into an accident, potential severity of such accident, and available options for the driver on the road. \n\nThe other benefactors of such prediction model could be the government and the states. One benefit for these agencies could be to evaluate in which areas the road conditions play a more significant role in the occurrence or severity of accidents so they can use their resources more efficiently by improving the infrastructure in more impactful locations. Also, a decrease in the number or severity of accidents would improve the response time to collisions which could save lives in addition to saving a significant amount of money for the states and the government that is spent annually on providing emergency services on the roads."
        },
        {
            "cell_type": "markdown",
            "metadata": {},
            "source": "### Data"
        },
        {
            "cell_type": "markdown",
            "metadata": {},
            "source": "Several factors affect the occurrence and severity of car accidents. Road, weather, and light conditions are some of the factors that are not under a driver's control but factors such as speed and focus on driving could be easily managed by the drivers to avoid getting into car accidents. In other words, given a certain speed and other factors such as weather and road conditions, we should be able to predict to a certain extent whether an accident might occur and if so, how severe the accident could be. \n\nTo build a model to predict severity of collisions, we will use the collisions database from the State of Seattle that represents all types of collisions from 2004 to 2020 and is provided by SPD and recorded by Traffic Records. Although the results from a model built based on the Seattle collisions database might not be applicable to the other regions are states, this is a major first step to test whether predicting occurrence and severity of car accidents is doable before applying this predictive model to the other states. \n\nThe selected database includes 194,673 observations and 37 attributes, of which, 36 attributes could potentially explain, as independent variables, the severity of accidents, the dependent variable, specified by \"SEVERITYCODE\" in the database. The database provides information for each collision such as location, severity, type, number of people involved, number of vehicles involved, injuries, fatalities, date, lack of attention, driving under influence, weather, road, and light conditions, speeding, and parked car involvement."
        }
    ],
    "metadata": {
        "kernelspec": {
            "display_name": "Python 3.6",
            "language": "python",
            "name": "python3"
        },
        "language_info": {
            "codemirror_mode": {
                "name": "ipython",
                "version": 3
            },
            "file_extension": ".py",
            "mimetype": "text/x-python",
            "name": "python",
            "nbconvert_exporter": "python",
            "pygments_lexer": "ipython3",
            "version": "3.6.9"
        }
    },
    "nbformat": 4,
    "nbformat_minor": 1
}